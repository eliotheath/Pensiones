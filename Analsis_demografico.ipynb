{
 "cells": [
  {
   "cell_type": "code",
   "execution_count": 71,
   "metadata": {},
   "outputs": [],
   "source": [
    "## Para manejar DataFrame\n",
    "import pandas as pd\n",
    "import numpy as np\n",
    "## Para hacer gráficas\n",
    "import seaborn as sns\n",
    "import matplotlib.pyplot as plt\n",
    "import plotly.graph_objs as go\n",
    "import plotly.plotly as py\n",
    "import datetime, requests\n",
    "%matplotlib inline\n",
    "## Para hacer análsis estadísticos\n",
    "from factor_analyzer import FactorAnalyzer\n",
    "from sklearn.decomposition import PCA\n",
    "from sklearn.preprocessing import StandardScaler, MinMaxScaler\n",
    "from sklearn.mixture import GaussianMixture\n",
    "from sklearn.cluster import KMeans\n",
    "from sklearn.manifold import MDS\n"
   ]
  },
  {
   "cell_type": "markdown",
   "metadata": {},
   "source": [
    "## Importacion del dataset"
   ]
  },
  {
   "cell_type": "code",
   "execution_count": 72,
   "metadata": {},
   "outputs": [],
   "source": [
    "## Poblacion total\n",
    "pob_tot = pd.read_excel(\"/home/mcorral/Eliot/pob_tot_10.xls\")\n",
    "\n",
    "## Poblacion instruida\n",
    "pob_int = pd.read_excel(\"/home/mcorral/Eliot/pob_inst_10.xls\")\n",
    "\n",
    "## Poblacion con educacion\n",
    "pob_edu = pd.read_excel(\"/home/mcorral/Eliot/pob_edu_10.xls\")\n",
    "\n",
    "## Poblacion con discapacidad\n",
    "pob_dis = pd.read_excel(\"/home/mcorral/Eliot/pob_disc_10.xls\")\n",
    "\n",
    "## Poblacion Economicamente Activa al 2010\n",
    "PEA = pd.read_excel(\"/home/mcorral/Eliot/PEA2010.xls\")\n",
    "\n",
    "## Proyeciones conapo Indicadores Demograficos\n",
    "proy = pd.read_csv(\"/home/mcorral/Eliot/ind_dem_proyecciones.csv\",encoding=\"iso-8859-15\")"
   ]
  },
  {
   "cell_type": "markdown",
   "metadata": {},
   "source": [
    "## Analisis de los datos\n",
    "### Vamos a ver cual es la naturaleza de los datos, y que podemos observar de ellos."
   ]
  },
  {
   "cell_type": "markdown",
   "metadata": {},
   "source": [
    "#### Prorateo de los No especificados"
   ]
  },
  {
   "cell_type": "code",
   "execution_count": 4,
   "metadata": {},
   "outputs": [],
   "source": [
    "#Poblacion de hombres por edades quinquenales\n",
    "pob_tot_h = pob_tot[pob_tot['Sexo'] =='Hombres'][['Población total','Grupos quinquenales de edad']][['Población total','Grupos quinquenales de edad']].reset_index().drop(['index'], axis=1).rename(index=str, columns={\"Población total\": \"Poblacion\", \"Grupos quinquenales de edad\": \"Edades\"})\n",
    "#Poblacion de mujeres por edades quinquenales\n",
    "pob_tot_m = pob_tot[pob_tot['Sexo'] =='Mujeres'][['Población total','Grupos quinquenales de edad']][['Población total','Grupos quinquenales de edad']].reset_index().drop(['index'], axis=1).rename(index=str, columns={\"Población total\": \"Poblacion\", \"Grupos quinquenales de edad\": \"Edades\"})"
   ]
  },
  {
   "cell_type": "code",
   "execution_count": 5,
   "metadata": {
    "scrolled": true
   },
   "outputs": [
    {
     "name": "stderr",
     "output_type": "stream",
     "text": [
      "/home/mcorral/.pyenv/versions/3.6.0/lib/python3.6/site-packages/ipykernel_launcher.py:1: UserWarning:\n",
      "\n",
      "Boolean Series key will be reindexed to match DataFrame index.\n",
      "\n",
      "/home/mcorral/.pyenv/versions/3.6.0/lib/python3.6/site-packages/ipykernel_launcher.py:2: UserWarning:\n",
      "\n",
      "Boolean Series key will be reindexed to match DataFrame index.\n",
      "\n"
     ]
    }
   ],
   "source": [
    "Pob_tot_H = pob_tot_h[pob_tot_h['Edades'] !='Total'][pob_tot_h['Edades'] !='No especificado'][pob_tot_h['Poblacion'] != 54855231][pob_tot_h['Poblacion'] != 700219].reset_index().drop(['index'], axis=1)\n",
    "Pob_tot_M = pob_tot_m[pob_tot_m['Edades'] !='Total'][pob_tot_m['Edades'] !='No especificado'][pob_tot_m['Poblacion'] != 57481307][pob_tot_m['Poblacion'] != 697187].reset_index().drop(['index'], axis=1)"
   ]
  },
  {
   "cell_type": "code",
   "execution_count": 6,
   "metadata": {},
   "outputs": [],
   "source": [
    "h = 54855231\n",
    "Neh= 700219\n",
    "H = h-Neh\n",
    "m = 57481307\n",
    "Nem = 697187\n",
    "M = m-Nem"
   ]
  },
  {
   "cell_type": "code",
   "execution_count": 8,
   "metadata": {},
   "outputs": [],
   "source": [
    "Pob_tot_H1 = Pob_tot_H[['Poblacion']]/H\n",
    "Pob_tot_M1 = Pob_tot_M[['Poblacion']]/M"
   ]
  },
  {
   "cell_type": "code",
   "execution_count": 9,
   "metadata": {},
   "outputs": [
    {
     "data": {
      "text/html": [
       "<div>\n",
       "<style scoped>\n",
       "    .dataframe tbody tr th:only-of-type {\n",
       "        vertical-align: middle;\n",
       "    }\n",
       "\n",
       "    .dataframe tbody tr th {\n",
       "        vertical-align: top;\n",
       "    }\n",
       "\n",
       "    .dataframe thead th {\n",
       "        text-align: right;\n",
       "    }\n",
       "</style>\n",
       "<table border=\"1\" class=\"dataframe\">\n",
       "  <thead>\n",
       "    <tr style=\"text-align: right;\">\n",
       "      <th></th>\n",
       "      <th>Poblacion</th>\n",
       "    </tr>\n",
       "  </thead>\n",
       "  <tbody>\n",
       "    <tr>\n",
       "      <th>0</th>\n",
       "      <td>0.098734</td>\n",
       "    </tr>\n",
       "    <tr>\n",
       "      <th>1</th>\n",
       "      <td>0.103484</td>\n",
       "    </tr>\n",
       "    <tr>\n",
       "      <th>2</th>\n",
       "      <td>0.102440</td>\n",
       "    </tr>\n",
       "    <tr>\n",
       "      <th>3</th>\n",
       "      <td>0.101932</td>\n",
       "    </tr>\n",
       "    <tr>\n",
       "      <th>4</th>\n",
       "      <td>0.088878</td>\n",
       "    </tr>\n",
       "    <tr>\n",
       "      <th>5</th>\n",
       "      <td>0.077665</td>\n",
       "    </tr>\n",
       "    <tr>\n",
       "      <th>6</th>\n",
       "      <td>0.074343</td>\n",
       "    </tr>\n",
       "    <tr>\n",
       "      <th>7</th>\n",
       "      <td>0.073211</td>\n",
       "    </tr>\n",
       "    <tr>\n",
       "      <th>8</th>\n",
       "      <td>0.061865</td>\n",
       "    </tr>\n",
       "    <tr>\n",
       "      <th>9</th>\n",
       "      <td>0.052153</td>\n",
       "    </tr>\n",
       "    <tr>\n",
       "      <th>10</th>\n",
       "      <td>0.044362</td>\n",
       "    </tr>\n",
       "    <tr>\n",
       "      <th>11</th>\n",
       "      <td>0.034522</td>\n",
       "    </tr>\n",
       "    <tr>\n",
       "      <th>12</th>\n",
       "      <td>0.027267</td>\n",
       "    </tr>\n",
       "    <tr>\n",
       "      <th>13</th>\n",
       "      <td>0.020225</td>\n",
       "    </tr>\n",
       "    <tr>\n",
       "      <th>14</th>\n",
       "      <td>0.016137</td>\n",
       "    </tr>\n",
       "    <tr>\n",
       "      <th>15</th>\n",
       "      <td>0.010704</td>\n",
       "    </tr>\n",
       "    <tr>\n",
       "      <th>16</th>\n",
       "      <td>0.006560</td>\n",
       "    </tr>\n",
       "    <tr>\n",
       "      <th>17</th>\n",
       "      <td>0.003646</td>\n",
       "    </tr>\n",
       "    <tr>\n",
       "      <th>18</th>\n",
       "      <td>0.001258</td>\n",
       "    </tr>\n",
       "    <tr>\n",
       "      <th>19</th>\n",
       "      <td>0.000479</td>\n",
       "    </tr>\n",
       "    <tr>\n",
       "      <th>20</th>\n",
       "      <td>0.000133</td>\n",
       "    </tr>\n",
       "  </tbody>\n",
       "</table>\n",
       "</div>"
      ],
      "text/plain": [
       "    Poblacion\n",
       "0    0.098734\n",
       "1    0.103484\n",
       "2    0.102440\n",
       "3    0.101932\n",
       "4    0.088878\n",
       "5    0.077665\n",
       "6    0.074343\n",
       "7    0.073211\n",
       "8    0.061865\n",
       "9    0.052153\n",
       "10   0.044362\n",
       "11   0.034522\n",
       "12   0.027267\n",
       "13   0.020225\n",
       "14   0.016137\n",
       "15   0.010704\n",
       "16   0.006560\n",
       "17   0.003646\n",
       "18   0.001258\n",
       "19   0.000479\n",
       "20   0.000133"
      ]
     },
     "execution_count": 9,
     "metadata": {},
     "output_type": "execute_result"
    }
   ],
   "source": [
    "Pob_tot_H1"
   ]
  },
  {
   "cell_type": "code",
   "execution_count": 10,
   "metadata": {
    "scrolled": true
   },
   "outputs": [
    {
     "data": {
      "text/plain": [
       "Poblacion    1.0\n",
       "dtype: float64"
      ]
     },
     "execution_count": 10,
     "metadata": {},
     "output_type": "execute_result"
    }
   ],
   "source": [
    "Pob_tot_H1[['Poblacion']].sum()"
   ]
  },
  {
   "cell_type": "code",
   "execution_count": 11,
   "metadata": {},
   "outputs": [],
   "source": [
    "Pob_tot_H2 = Pob_tot_H1[['Poblacion']]*Neh\n",
    "Pob_tot_M2 = Pob_tot_M1[['Poblacion']]*Nem"
   ]
  },
  {
   "cell_type": "code",
   "execution_count": 12,
   "metadata": {},
   "outputs": [
    {
     "data": {
      "text/html": [
       "<div>\n",
       "<style scoped>\n",
       "    .dataframe tbody tr th:only-of-type {\n",
       "        vertical-align: middle;\n",
       "    }\n",
       "\n",
       "    .dataframe tbody tr th {\n",
       "        vertical-align: top;\n",
       "    }\n",
       "\n",
       "    .dataframe thead th {\n",
       "        text-align: right;\n",
       "    }\n",
       "</style>\n",
       "<table border=\"1\" class=\"dataframe\">\n",
       "  <thead>\n",
       "    <tr style=\"text-align: right;\">\n",
       "      <th></th>\n",
       "      <th>Poblacion</th>\n",
       "    </tr>\n",
       "  </thead>\n",
       "  <tbody>\n",
       "    <tr>\n",
       "      <th>0</th>\n",
       "      <td>69135.449190</td>\n",
       "    </tr>\n",
       "    <tr>\n",
       "      <th>1</th>\n",
       "      <td>72461.433751</td>\n",
       "    </tr>\n",
       "    <tr>\n",
       "      <th>2</th>\n",
       "      <td>71730.092632</td>\n",
       "    </tr>\n",
       "    <tr>\n",
       "      <th>3</th>\n",
       "      <td>71374.623765</td>\n",
       "    </tr>\n",
       "    <tr>\n",
       "      <th>4</th>\n",
       "      <td>62234.256207</td>\n",
       "    </tr>\n",
       "    <tr>\n",
       "      <th>5</th>\n",
       "      <td>54382.844722</td>\n",
       "    </tr>\n",
       "    <tr>\n",
       "      <th>6</th>\n",
       "      <td>52056.186430</td>\n",
       "    </tr>\n",
       "    <tr>\n",
       "      <th>7</th>\n",
       "      <td>51263.673944</td>\n",
       "    </tr>\n",
       "    <tr>\n",
       "      <th>8</th>\n",
       "      <td>43319.335254</td>\n",
       "    </tr>\n",
       "    <tr>\n",
       "      <th>9</th>\n",
       "      <td>36518.749838</td>\n",
       "    </tr>\n",
       "    <tr>\n",
       "      <th>10</th>\n",
       "      <td>31063.456080</td>\n",
       "    </tr>\n",
       "    <tr>\n",
       "      <th>11</th>\n",
       "      <td>24172.930265</td>\n",
       "    </tr>\n",
       "    <tr>\n",
       "      <th>12</th>\n",
       "      <td>19093.159652</td>\n",
       "    </tr>\n",
       "    <tr>\n",
       "      <th>13</th>\n",
       "      <td>14161.772594</td>\n",
       "    </tr>\n",
       "    <tr>\n",
       "      <th>14</th>\n",
       "      <td>11299.350881</td>\n",
       "    </tr>\n",
       "    <tr>\n",
       "      <th>15</th>\n",
       "      <td>7495.321982</td>\n",
       "    </tr>\n",
       "    <tr>\n",
       "      <th>16</th>\n",
       "      <td>4593.696806</td>\n",
       "    </tr>\n",
       "    <tr>\n",
       "      <th>17</th>\n",
       "      <td>2553.151386</td>\n",
       "    </tr>\n",
       "    <tr>\n",
       "      <th>18</th>\n",
       "      <td>880.914226</td>\n",
       "    </tr>\n",
       "    <tr>\n",
       "      <th>19</th>\n",
       "      <td>335.143061</td>\n",
       "    </tr>\n",
       "    <tr>\n",
       "      <th>20</th>\n",
       "      <td>93.457332</td>\n",
       "    </tr>\n",
       "  </tbody>\n",
       "</table>\n",
       "</div>"
      ],
      "text/plain": [
       "       Poblacion\n",
       "0   69135.449190\n",
       "1   72461.433751\n",
       "2   71730.092632\n",
       "3   71374.623765\n",
       "4   62234.256207\n",
       "5   54382.844722\n",
       "6   52056.186430\n",
       "7   51263.673944\n",
       "8   43319.335254\n",
       "9   36518.749838\n",
       "10  31063.456080\n",
       "11  24172.930265\n",
       "12  19093.159652\n",
       "13  14161.772594\n",
       "14  11299.350881\n",
       "15   7495.321982\n",
       "16   4593.696806\n",
       "17   2553.151386\n",
       "18    880.914226\n",
       "19    335.143061\n",
       "20     93.457332"
      ]
     },
     "execution_count": 12,
     "metadata": {},
     "output_type": "execute_result"
    }
   ],
   "source": [
    "Pob_tot_H2"
   ]
  },
  {
   "cell_type": "code",
   "execution_count": 13,
   "metadata": {},
   "outputs": [],
   "source": [
    "Pob_tot_H3 = Pob_tot_H[['Poblacion']]+Pob_tot_H2\n",
    "Pob_tot_M3 = Pob_tot_M[['Poblacion']]+Pob_tot_M2"
   ]
  },
  {
   "cell_type": "code",
   "execution_count": 14,
   "metadata": {},
   "outputs": [],
   "source": [
    "Pob_tot_H['Hombres']=Pob_tot_H3\n",
    "Pob_tot_M['Mujeres']=Pob_tot_M3"
   ]
  },
  {
   "cell_type": "code",
   "execution_count": 15,
   "metadata": {},
   "outputs": [],
   "source": [
    "Pob_tot_H = Pob_tot_H.drop(['Poblacion'], axis=1)\n",
    "Pob_tot_M = Pob_tot_M.drop(['Poblacion'], axis=1)"
   ]
  },
  {
   "cell_type": "code",
   "execution_count": 16,
   "metadata": {},
   "outputs": [
    {
     "data": {
      "text/html": [
       "<div>\n",
       "<style scoped>\n",
       "    .dataframe tbody tr th:only-of-type {\n",
       "        vertical-align: middle;\n",
       "    }\n",
       "\n",
       "    .dataframe tbody tr th {\n",
       "        vertical-align: top;\n",
       "    }\n",
       "\n",
       "    .dataframe thead th {\n",
       "        text-align: right;\n",
       "    }\n",
       "</style>\n",
       "<table border=\"1\" class=\"dataframe\">\n",
       "  <thead>\n",
       "    <tr style=\"text-align: right;\">\n",
       "      <th></th>\n",
       "      <th>Edades</th>\n",
       "      <th>Hombres</th>\n",
       "    </tr>\n",
       "  </thead>\n",
       "  <tbody>\n",
       "    <tr>\n",
       "      <th>0</th>\n",
       "      <td>00-04 años</td>\n",
       "      <td>5.416078e+06</td>\n",
       "    </tr>\n",
       "    <tr>\n",
       "      <th>1</th>\n",
       "      <td>05-09 años</td>\n",
       "      <td>5.676636e+06</td>\n",
       "    </tr>\n",
       "    <tr>\n",
       "      <th>2</th>\n",
       "      <td>10-14 años</td>\n",
       "      <td>5.619343e+06</td>\n",
       "    </tr>\n",
       "    <tr>\n",
       "      <th>3</th>\n",
       "      <td>15-19 años</td>\n",
       "      <td>5.591496e+06</td>\n",
       "    </tr>\n",
       "    <tr>\n",
       "      <th>4</th>\n",
       "      <td>20-24 años</td>\n",
       "      <td>4.875438e+06</td>\n",
       "    </tr>\n",
       "    <tr>\n",
       "      <th>5</th>\n",
       "      <td>25-29 años</td>\n",
       "      <td>4.260358e+06</td>\n",
       "    </tr>\n",
       "    <tr>\n",
       "      <th>6</th>\n",
       "      <td>30-34 años</td>\n",
       "      <td>4.078087e+06</td>\n",
       "    </tr>\n",
       "    <tr>\n",
       "      <th>7</th>\n",
       "      <td>35-39 años</td>\n",
       "      <td>4.016002e+06</td>\n",
       "    </tr>\n",
       "    <tr>\n",
       "      <th>8</th>\n",
       "      <td>40-44 años</td>\n",
       "      <td>3.393641e+06</td>\n",
       "    </tr>\n",
       "    <tr>\n",
       "      <th>9</th>\n",
       "      <td>45-49 años</td>\n",
       "      <td>2.860883e+06</td>\n",
       "    </tr>\n",
       "    <tr>\n",
       "      <th>10</th>\n",
       "      <td>50-54 años</td>\n",
       "      <td>2.433514e+06</td>\n",
       "    </tr>\n",
       "    <tr>\n",
       "      <th>11</th>\n",
       "      <td>55-59 años</td>\n",
       "      <td>1.893710e+06</td>\n",
       "    </tr>\n",
       "    <tr>\n",
       "      <th>12</th>\n",
       "      <td>60-64 años</td>\n",
       "      <td>1.495760e+06</td>\n",
       "    </tr>\n",
       "    <tr>\n",
       "      <th>13</th>\n",
       "      <td>65-69 años</td>\n",
       "      <td>1.109435e+06</td>\n",
       "    </tr>\n",
       "    <tr>\n",
       "      <th>14</th>\n",
       "      <td>70-74 años</td>\n",
       "      <td>8.851924e+05</td>\n",
       "    </tr>\n",
       "    <tr>\n",
       "      <th>15</th>\n",
       "      <td>75-79 años</td>\n",
       "      <td>5.871843e+05</td>\n",
       "    </tr>\n",
       "    <tr>\n",
       "      <th>16</th>\n",
       "      <td>80-84 años</td>\n",
       "      <td>3.598707e+05</td>\n",
       "    </tr>\n",
       "    <tr>\n",
       "      <th>17</th>\n",
       "      <td>85-89 años</td>\n",
       "      <td>2.000142e+05</td>\n",
       "    </tr>\n",
       "    <tr>\n",
       "      <th>18</th>\n",
       "      <td>90-94 años</td>\n",
       "      <td>6.901091e+04</td>\n",
       "    </tr>\n",
       "    <tr>\n",
       "      <th>19</th>\n",
       "      <td>95-99 años</td>\n",
       "      <td>2.625514e+04</td>\n",
       "    </tr>\n",
       "    <tr>\n",
       "      <th>20</th>\n",
       "      <td>100 años y más</td>\n",
       "      <td>7.321457e+03</td>\n",
       "    </tr>\n",
       "  </tbody>\n",
       "</table>\n",
       "</div>"
      ],
      "text/plain": [
       "            Edades       Hombres\n",
       "0       00-04 años  5.416078e+06\n",
       "1       05-09 años  5.676636e+06\n",
       "2       10-14 años  5.619343e+06\n",
       "3       15-19 años  5.591496e+06\n",
       "4       20-24 años  4.875438e+06\n",
       "5       25-29 años  4.260358e+06\n",
       "6       30-34 años  4.078087e+06\n",
       "7       35-39 años  4.016002e+06\n",
       "8       40-44 años  3.393641e+06\n",
       "9       45-49 años  2.860883e+06\n",
       "10      50-54 años  2.433514e+06\n",
       "11      55-59 años  1.893710e+06\n",
       "12      60-64 años  1.495760e+06\n",
       "13      65-69 años  1.109435e+06\n",
       "14      70-74 años  8.851924e+05\n",
       "15      75-79 años  5.871843e+05\n",
       "16      80-84 años  3.598707e+05\n",
       "17      85-89 años  2.000142e+05\n",
       "18      90-94 años  6.901091e+04\n",
       "19      95-99 años  2.625514e+04\n",
       "20  100 años y más  7.321457e+03"
      ]
     },
     "execution_count": 16,
     "metadata": {},
     "output_type": "execute_result"
    }
   ],
   "source": [
    "Pob_tot_H"
   ]
  },
  {
   "cell_type": "markdown",
   "metadata": {},
   "source": [
    "### Juntamos tabla Hombres y Mujeres en una sola"
   ]
  },
  {
   "cell_type": "code",
   "execution_count": 17,
   "metadata": {},
   "outputs": [],
   "source": [
    "Pob_tot = Pob_tot_H.merge(Pob_tot_M,\n",
    "                         left_on='Edades',\n",
    "                         right_on = 'Edades',\n",
    "                         how = 'inner')"
   ]
  },
  {
   "cell_type": "markdown",
   "metadata": {},
   "source": [
    "### Vamos a hacer algunas graficas"
   ]
  },
  {
   "cell_type": "code",
   "execution_count": 18,
   "metadata": {},
   "outputs": [
    {
     "name": "stderr",
     "output_type": "stream",
     "text": [
      "/home/mcorral/.pyenv/versions/3.6.0/lib/python3.6/site-packages/matplotlib/ticker.py:1437: UserWarning:\n",
      "\n",
      "'set_params()' not defined for locator of type <class 'matplotlib.category.StrCategoryLocator'>\n",
      "\n"
     ]
    },
    {
     "data": {
      "text/plain": [
       "Text(0.5, 1.0, 'Distribucion poblacion por edad y sexo')"
      ]
     },
     "execution_count": 18,
     "metadata": {},
     "output_type": "execute_result"
    },
    {
     "data": {
      "image/png": "[encoded data removed]",
      "text/plain": [
       "<Figure size 432x288 with 1 Axes>"
      ]
     },
     "metadata": {
      "needs_background": "light"
     },
     "output_type": "display_data"
    }
   ],
   "source": [
    "plt.plot(Pob_tot['Edades'],Pob_tot['Mujeres'],\n",
    "         Pob_tot['Edades'],Pob_tot['Hombres'])\n",
    "plt.xlim([0,20])\n",
    "plt.locator_params(axis='x')\n",
    "plt.locator_params(axis='y')\n",
    "plt.xlabel('Edades',size=16)\n",
    "plt.ylabel('Poblacion',size=16)\n",
    "plt.grid()\n",
    "plt.legend(['Mujeres','Hombres'])\n",
    "plt.title('Distribucion poblacion por edad y sexo')\n",
    "#plt.savefig('distripoblacionedadsexo.png',dpi=600)"
   ]
  },
  {
   "cell_type": "code",
   "execution_count": 19,
   "metadata": {},
   "outputs": [
    {
     "data": {
      "image/png": "[encoded data removed]",
      "text/plain": [
       "<Figure size 640x480 with 1 Axes>"
      ]
     },
     "metadata": {},
     "output_type": "display_data"
    }
   ],
   "source": [
    "plt.rcdefaults()\n",
    "fig,ax = plt.subplots()\n",
    "y_pos = Pob_tot['Edades']\n",
    "ax.barh(y_pos, Pob_tot['Mujeres'], align='center',\n",
    "        color='green', ecolor='black')\n",
    "ax.barh(y_pos,-Pob_tot['Hombres'],align='center',color='blue',ecolor='black')\n",
    "ax.set_yticks(y_pos)\n",
    "#ax.set_xticks([-4000,-3500,-3000,-2500,-2000,-1500,-1000,-500,0,\n",
    "#               500,1000,1500,2000,2500,3000,3500,400,])\n",
    "#ax.set_xticklabels(['4','3.5','3','2.5','2','1.5','1','5','0'\n",
    "#                    ,'.5','1','1.5','2','2.5','3','3.5','4'])\n",
    "ax.invert_yaxis()  # labels read top-to-bottom\n",
    "ax.set_xlabel('Población (en miles)',size=10)\n",
    "ax.set_ylabel('Edad')\n",
    "ax.locator_params(axis='y',nbins=25)\n",
    "plt.ylim(0,20)\n",
    "ax.set_title('Piramide Población México 2010',size=24)\n",
    "ax.grid(True)\n",
    "plt.text(1500, 23, 'Mujeres',color='green',size=15)\n",
    "plt.text(3000,25,'Hombres',color='blue',size=15)\n",
    "plt.rcParams[\"figure.figsize\"]=[12,7]\n",
    "#plt.savefig('piramide2010.png')\n",
    "plt.show()"
   ]
  },
  {
   "cell_type": "markdown",
   "metadata": {},
   "source": [
    "### Poblacion instruida"
   ]
  },
  {
   "cell_type": "markdown",
   "metadata": {},
   "source": [
    "### Análsis del contenido de la tabla de datos"
   ]
  },
  {
   "cell_type": "code",
   "execution_count": 73,
   "metadata": {},
   "outputs": [],
   "source": [
    "#Poblacion de hombres por edades quinquenales\n",
    "pob_Ins_h = pob_int[pob_int['SEXO'] =='Hombres'].reset_index().drop(['index'],axis=1)\n",
    "#Poblacion de mujeres por edades quinquenales\n",
    "pob_Ins_m = pob_int[pob_int['SEXO'] =='Mujeres'].reset_index().drop(['index'],axis=1)"
   ]
  },
  {
   "cell_type": "code",
   "execution_count": 74,
   "metadata": {},
   "outputs": [],
   "source": [
    "Pob_INS = pob_Ins_h.append(pob_Ins_m).drop(['Pais'],axis=1)"
   ]
  },
  {
   "cell_type": "code",
   "execution_count": 75,
   "metadata": {},
   "outputs": [],
   "source": [
    "# Tipo de variables\n",
    "Var_d = ['SEXO','EDAD']\n",
    "Var_c = [x for x in Pob_INS.columns if x not in Var_d]\n"
   ]
  },
  {
   "cell_type": "markdown",
   "metadata": {},
   "source": [
    "#### A continuacion, vamos a escalar"
   ]
  },
  {
   "cell_type": "code",
   "execution_count": 76,
   "metadata": {},
   "outputs": [],
   "source": [
    "sc = StandardScaler()\n",
    "mm = MinMaxScaler()"
   ]
  },
  {
   "cell_type": "code",
   "execution_count": 77,
   "metadata": {},
   "outputs": [
    {
     "name": "stderr",
     "output_type": "stream",
     "text": [
      "/home/mcorral/.pyenv/versions/3.6.0/lib/python3.6/site-packages/sklearn/preprocessing/data.py:625: DataConversionWarning:\n",
      "\n",
      "Data with input dtype int64 were all converted to float64 by StandardScaler.\n",
      "\n",
      "/home/mcorral/.pyenv/versions/3.6.0/lib/python3.6/site-packages/sklearn/preprocessing/data.py:323: DataConversionWarning:\n",
      "\n",
      "Data with input dtype int64 were all converted to float64 by MinMaxScaler.\n",
      "\n"
     ]
    },
    {
     "data": {
      "text/plain": [
       "MinMaxScaler(copy=True, feature_range=(0, 1))"
      ]
     },
     "execution_count": 77,
     "metadata": {},
     "output_type": "execute_result"
    }
   ],
   "source": [
    "sc.fit(Pob_INS[Var_c])\n",
    "mm.fit(Pob_INS[Var_c])"
   ]
  },
  {
   "cell_type": "code",
   "execution_count": 78,
   "metadata": {
    "scrolled": true
   },
   "outputs": [
    {
     "name": "stderr",
     "output_type": "stream",
     "text": [
      "/home/mcorral/.pyenv/versions/3.6.0/lib/python3.6/site-packages/ipykernel_launcher.py:1: DataConversionWarning:\n",
      "\n",
      "Data with input dtype int64 were all converted to float64 by StandardScaler.\n",
      "\n"
     ]
    }
   ],
   "source": [
    "Xs = pd.DataFrame(sc.transform(Pob_INS[Var_c]),columns=Var_c)\n",
    "Xmm = pd.DataFrame(mm.transform(Pob_INS[Var_c]),columns=Var_c)"
   ]
  },
  {
   "cell_type": "markdown",
   "metadata": {},
   "source": [
    "### Análisis de componentes principales, y análisis factorial"
   ]
  },
  {
   "cell_type": "code",
   "execution_count": 79,
   "metadata": {},
   "outputs": [
    {
     "data": {
      "text/plain": [
       "PCA(copy=True, iterated_power='auto', n_components=2, random_state=None,\n",
       "  svd_solver='auto', tol=0.0, whiten=False)"
      ]
     },
     "execution_count": 79,
     "metadata": {},
     "output_type": "execute_result"
    }
   ],
   "source": [
    "\n",
    "pca = PCA(n_components=2)\n",
    "mds = MDS(n_components=2)\n",
    "pca.fit(Xs)"
   ]
  },
  {
   "cell_type": "code",
   "execution_count": 80,
   "metadata": {},
   "outputs": [],
   "source": [
    "Xp = pd.DataFrame(pca.transform(Xs),columns=['p1','p2'])\n",
    "Xmm = pd.DataFrame(mds.fit_transform(Xmm),columns=['d1','d2'])"
   ]
  },
  {
   "cell_type": "code",
   "execution_count": 81,
   "metadata": {
    "scrolled": true
   },
   "outputs": [
    {
     "data": {
      "text/html": [
       "<div>\n",
       "<style scoped>\n",
       "    .dataframe tbody tr th:only-of-type {\n",
       "        vertical-align: middle;\n",
       "    }\n",
       "\n",
       "    .dataframe tbody tr th {\n",
       "        vertical-align: top;\n",
       "    }\n",
       "\n",
       "    .dataframe thead th {\n",
       "        text-align: right;\n",
       "    }\n",
       "</style>\n",
       "<table border=\"1\" class=\"dataframe\">\n",
       "  <thead>\n",
       "    <tr style=\"text-align: right;\">\n",
       "      <th></th>\n",
       "      <th>p1</th>\n",
       "      <th>p2</th>\n",
       "    </tr>\n",
       "  </thead>\n",
       "  <tbody>\n",
       "    <tr>\n",
       "      <th>p1</th>\n",
       "      <td>1.000000e+00</td>\n",
       "      <td>-1.529957e-14</td>\n",
       "    </tr>\n",
       "    <tr>\n",
       "      <th>p2</th>\n",
       "      <td>-1.529957e-14</td>\n",
       "      <td>1.000000e+00</td>\n",
       "    </tr>\n",
       "  </tbody>\n",
       "</table>\n",
       "</div>"
      ],
      "text/plain": [
       "              p1            p2\n",
       "p1  1.000000e+00 -1.529957e-14\n",
       "p2 -1.529957e-14  1.000000e+00"
      ]
     },
     "execution_count": 81,
     "metadata": {},
     "output_type": "execute_result"
    }
   ],
   "source": [
    "Xp.corr()"
   ]
  },
  {
   "cell_type": "code",
   "execution_count": 82,
   "metadata": {},
   "outputs": [
    {
     "data": {
      "text/plain": [
       "array([0.96391556, 0.01856174])"
      ]
     },
     "execution_count": 82,
     "metadata": {},
     "output_type": "execute_result"
    }
   ],
   "source": [
    "pca.explained_variance_ratio_"
   ]
  },
  {
   "cell_type": "code",
   "execution_count": 83,
   "metadata": {},
   "outputs": [
    {
     "data": {
      "text/plain": [
       "array([0.96391556, 0.9824773 ])"
      ]
     },
     "execution_count": 83,
     "metadata": {},
     "output_type": "execute_result"
    }
   ],
   "source": [
    "np.cumsum(pca.explained_variance_ratio_)"
   ]
  },
  {
   "cell_type": "code",
   "execution_count": 84,
   "metadata": {},
   "outputs": [],
   "source": [
    "fa =FactorAnalyzer()"
   ]
  },
  {
   "cell_type": "code",
   "execution_count": 85,
   "metadata": {},
   "outputs": [],
   "source": [
    "fa.analyze(Xs,2,rotation='varimax')"
   ]
  },
  {
   "cell_type": "code",
   "execution_count": 86,
   "metadata": {},
   "outputs": [
    {
     "data": {
      "text/html": [
       "<div>\n",
       "<style scoped>\n",
       "    .dataframe tbody tr th:only-of-type {\n",
       "        vertical-align: middle;\n",
       "    }\n",
       "\n",
       "    .dataframe tbody tr th {\n",
       "        vertical-align: top;\n",
       "    }\n",
       "\n",
       "    .dataframe thead th {\n",
       "        text-align: right;\n",
       "    }\n",
       "</style>\n",
       "<table border=\"1\" class=\"dataframe\">\n",
       "  <thead>\n",
       "    <tr style=\"text-align: right;\">\n",
       "      <th></th>\n",
       "      <th>Factor1</th>\n",
       "      <th>Factor2</th>\n",
       "    </tr>\n",
       "  </thead>\n",
       "  <tbody>\n",
       "    <tr>\n",
       "      <th>Población de 18 años y más</th>\n",
       "      <td>0.746457</td>\n",
       "      <td>0.663568</td>\n",
       "    </tr>\n",
       "    <tr>\n",
       "      <th>Sin educación superior</th>\n",
       "      <td>0.751485</td>\n",
       "      <td>0.656331</td>\n",
       "    </tr>\n",
       "    <tr>\n",
       "      <th>Tecnico1</th>\n",
       "      <td>0.810650</td>\n",
       "      <td>0.536899</td>\n",
       "    </tr>\n",
       "    <tr>\n",
       "      <th>Tecnico2</th>\n",
       "      <td>0.835562</td>\n",
       "      <td>0.544535</td>\n",
       "    </tr>\n",
       "    <tr>\n",
       "      <th>Tecnico3,4</th>\n",
       "      <td>0.802407</td>\n",
       "      <td>0.557545</td>\n",
       "    </tr>\n",
       "    <tr>\n",
       "      <th>No especificado</th>\n",
       "      <td>0.798681</td>\n",
       "      <td>0.586082</td>\n",
       "    </tr>\n",
       "    <tr>\n",
       "      <th>Profesional1</th>\n",
       "      <td>0.758177</td>\n",
       "      <td>0.591045</td>\n",
       "    </tr>\n",
       "    <tr>\n",
       "      <th>Profesional2</th>\n",
       "      <td>0.738442</td>\n",
       "      <td>0.635610</td>\n",
       "    </tr>\n",
       "    <tr>\n",
       "      <th>Profesional3</th>\n",
       "      <td>0.762075</td>\n",
       "      <td>0.634815</td>\n",
       "    </tr>\n",
       "    <tr>\n",
       "      <th>Profesional4</th>\n",
       "      <td>0.726881</td>\n",
       "      <td>0.677865</td>\n",
       "    </tr>\n",
       "    <tr>\n",
       "      <th>Profesional5</th>\n",
       "      <td>0.626854</td>\n",
       "      <td>0.775843</td>\n",
       "    </tr>\n",
       "    <tr>\n",
       "      <th>Profesional6</th>\n",
       "      <td>0.580420</td>\n",
       "      <td>0.813173</td>\n",
       "    </tr>\n",
       "    <tr>\n",
       "      <th>No especificado.1</th>\n",
       "      <td>0.673268</td>\n",
       "      <td>0.738881</td>\n",
       "    </tr>\n",
       "    <tr>\n",
       "      <th>Maestría</th>\n",
       "      <td>0.617247</td>\n",
       "      <td>0.783844</td>\n",
       "    </tr>\n",
       "    <tr>\n",
       "      <th>Doctorado</th>\n",
       "      <td>0.500298</td>\n",
       "      <td>0.853274</td>\n",
       "    </tr>\n",
       "    <tr>\n",
       "      <th>No especificado.2</th>\n",
       "      <td>0.780653</td>\n",
       "      <td>0.623285</td>\n",
       "    </tr>\n",
       "  </tbody>\n",
       "</table>\n",
       "</div>"
      ],
      "text/plain": [
       "                             Factor1   Factor2\n",
       "Población de 18 años y más  0.746457  0.663568\n",
       "Sin educación superior      0.751485  0.656331\n",
       "Tecnico1                    0.810650  0.536899\n",
       "Tecnico2                    0.835562  0.544535\n",
       "Tecnico3,4                  0.802407  0.557545\n",
       "No especificado             0.798681  0.586082\n",
       "Profesional1                0.758177  0.591045\n",
       "Profesional2                0.738442  0.635610\n",
       "Profesional3                0.762075  0.634815\n",
       "Profesional4                0.726881  0.677865\n",
       "Profesional5                0.626854  0.775843\n",
       "Profesional6                0.580420  0.813173\n",
       "No especificado.1           0.673268  0.738881\n",
       "Maestría                    0.617247  0.783844\n",
       "Doctorado                   0.500298  0.853274\n",
       "No especificado.2           0.780653  0.623285"
      ]
     },
     "execution_count": 86,
     "metadata": {},
     "output_type": "execute_result"
    }
   ],
   "source": [
    "fa.loadings"
   ]
  },
  {
   "cell_type": "code",
   "execution_count": 87,
   "metadata": {},
   "outputs": [],
   "source": [
    "pca =PCA()\n",
    "pca.fit(Xs)\n",
    "Xp=pd.DataFrame(pca.transform(Xs),columns=['p%d'%(i+1) for i in range(len(Xs.columns))])"
   ]
  },
  {
   "cell_type": "code",
   "execution_count": 88,
   "metadata": {},
   "outputs": [
    {
     "data": {
      "text/plain": [
       "array([0.96391556, 0.9824773 , 0.99418748, 0.99718912, 0.99853607,\n",
       "       0.9994007 , 0.99967891, 0.99983236, 0.99993654, 0.99996775,\n",
       "       0.99998403, 0.99999368, 0.99999789, 0.99999952, 1.        ,\n",
       "       1.        ])"
      ]
     },
     "execution_count": 88,
     "metadata": {},
     "output_type": "execute_result"
    }
   ],
   "source": [
    "pca.explained_variance_ratio_.cumsum()"
   ]
  },
  {
   "cell_type": "code",
   "execution_count": 89,
   "metadata": {
    "scrolled": true
   },
   "outputs": [
    {
     "data": {
      "text/plain": [
       "array([0.96391556, 0.9824773 , 0.99418748, 0.99718912, 0.99853607,\n",
       "       0.9994007 , 0.99967891, 0.99983236, 0.99993654, 0.99996775,\n",
       "       0.99998403, 0.99999368, 0.99999789, 0.99999952, 1.        ,\n",
       "       1.        ])"
      ]
     },
     "execution_count": 89,
     "metadata": {},
     "output_type": "execute_result"
    }
   ],
   "source": [
    "#La explicacion de la varianza es:\n",
    "pca.explained_variance_ratio_.cumsum()"
   ]
  },
  {
   "cell_type": "markdown",
   "metadata": {},
   "source": [
    "### De la siguiente forma se acomglomeran los datos"
   ]
  },
  {
   "cell_type": "code",
   "execution_count": 90,
   "metadata": {},
   "outputs": [
    {
     "data": {
      "text/plain": [
       "<seaborn.axisgrid.FacetGrid at 0x7f0f22517eb8>"
      ]
     },
     "execution_count": 90,
     "metadata": {},
     "output_type": "execute_result"
    },
    {
     "data": {
      "image/png": "[encoded data removed]",
      "text/plain": [
       "<Figure size 360x360 with 1 Axes>"
      ]
     },
     "metadata": {
      "needs_background": "light"
     },
     "output_type": "display_data"
    }
   ],
   "source": [
    "sns.lmplot(data=Xp,x='p1',y='p2',fit_reg=False)"
   ]
  },
  {
   "cell_type": "code",
   "execution_count": 91,
   "metadata": {},
   "outputs": [
    {
     "data": {
      "text/plain": [
       "<seaborn.axisgrid.FacetGrid at 0x7f0f2249abe0>"
      ]
     },
     "execution_count": 91,
     "metadata": {},
     "output_type": "execute_result"
    },
    {
     "data": {
      "image/png": "[encoded data removed]",
      "text/plain": [
       "<Figure size 360x360 with 1 Axes>"
      ]
     },
     "metadata": {
      "needs_background": "light"
     },
     "output_type": "display_data"
    }
   ],
   "source": [
    "sns.lmplot(data=Xmm,x='d1',y='d2',fit_reg=False)"
   ]
  },
  {
   "cell_type": "markdown",
   "metadata": {},
   "source": [
    "### Vamos a realizar unos clusters para ver patrones en los datos"
   ]
  },
  {
   "cell_type": "code",
   "execution_count": 92,
   "metadata": {},
   "outputs": [],
   "source": [
    "l = []\n",
    "for k in range(2,10):\n",
    "    km =KMeans(n_clusters=k)\n",
    "    km.fit(Xs)\n",
    "    l.append(km.inertia_)"
   ]
  },
  {
   "cell_type": "code",
   "execution_count": 93,
   "metadata": {},
   "outputs": [
    {
     "data": {
      "text/plain": [
       "[<matplotlib.lines.Line2D at 0x7f0f224397f0>]"
      ]
     },
     "execution_count": 93,
     "metadata": {},
     "output_type": "execute_result"
    },
    {
     "data": {
      "image/png": "[encoded data removed]",
      "text/plain": [
       "<Figure size 432x288 with 1 Axes>"
      ]
     },
     "metadata": {
      "needs_background": "light"
     },
     "output_type": "display_data"
    }
   ],
   "source": [
    "plt.plot(range(2,10),l,marker='o')"
   ]
  },
  {
   "cell_type": "code",
   "execution_count": 94,
   "metadata": {},
   "outputs": [],
   "source": [
    "gmm = GaussianMixture(n_components=4)\n",
    "gmm.fit(Xs)\n",
    "Xp['cl'] = Xmm['cl'] = Pob_INS['cl'] = Xs['cl'] = gmm.predict(Xs)"
   ]
  },
  {
   "cell_type": "code",
   "execution_count": 95,
   "metadata": {},
   "outputs": [
    {
     "data": {
      "text/plain": [
       "<seaborn.axisgrid.FacetGrid at 0x7f0f22462cf8>"
      ]
     },
     "execution_count": 95,
     "metadata": {},
     "output_type": "execute_result"
    },
    {
     "data": {
      "image/png": "[encoded data removed]",
      "text/plain": [
       "<Figure size 402.375x360 with 1 Axes>"
      ]
     },
     "metadata": {
      "needs_background": "light"
     },
     "output_type": "display_data"
    }
   ],
   "source": [
    "sns.lmplot(data=Xmm,x='d1',y='d2',fit_reg=False,hue='cl')"
   ]
  },
  {
   "cell_type": "code",
   "execution_count": 96,
   "metadata": {},
   "outputs": [
    {
     "data": {
      "text/plain": [
       "<seaborn.axisgrid.FacetGrid at 0x7f0f2240ec18>"
      ]
     },
     "execution_count": 96,
     "metadata": {},
     "output_type": "execute_result"
    },
    {
     "data": {
      "image/png": "[encoded data removed]",
      "text/plain": [
       "<Figure size 402.375x360 with 1 Axes>"
      ]
     },
     "metadata": {
      "needs_background": "light"
     },
     "output_type": "display_data"
    }
   ],
   "source": [
    "sns.lmplot(data=Xp,x='p1',y='p2',fit_reg=False,hue='cl')"
   ]
  },
  {
   "cell_type": "markdown",
   "metadata": {},
   "source": [
    "### Perfilamiento de los datos"
   ]
  },
  {
   "cell_type": "code",
   "execution_count": 97,
   "metadata": {},
   "outputs": [
    {
     "data": {
      "text/html": [
       "<div>\n",
       "<style scoped>\n",
       "    .dataframe tbody tr th:only-of-type {\n",
       "        vertical-align: middle;\n",
       "    }\n",
       "\n",
       "    .dataframe tbody tr th {\n",
       "        vertical-align: top;\n",
       "    }\n",
       "\n",
       "    .dataframe thead th {\n",
       "        text-align: right;\n",
       "    }\n",
       "</style>\n",
       "<table border=\"1\" class=\"dataframe\">\n",
       "  <thead>\n",
       "    <tr style=\"text-align: right;\">\n",
       "      <th></th>\n",
       "      <th>Población de 18 años y más</th>\n",
       "      <th>Sin educación superior</th>\n",
       "      <th>Tecnico1</th>\n",
       "      <th>Tecnico2</th>\n",
       "      <th>Tecnico3,4</th>\n",
       "      <th>No especificado</th>\n",
       "      <th>Profesional1</th>\n",
       "      <th>Profesional2</th>\n",
       "      <th>Profesional3</th>\n",
       "      <th>Profesional4</th>\n",
       "      <th>Profesional5</th>\n",
       "      <th>Profesional6</th>\n",
       "      <th>No especificado.1</th>\n",
       "      <th>Maestría</th>\n",
       "      <th>Doctorado</th>\n",
       "      <th>No especificado.2</th>\n",
       "    </tr>\n",
       "    <tr>\n",
       "      <th>cl</th>\n",
       "      <th></th>\n",
       "      <th></th>\n",
       "      <th></th>\n",
       "      <th></th>\n",
       "      <th></th>\n",
       "      <th></th>\n",
       "      <th></th>\n",
       "      <th></th>\n",
       "      <th></th>\n",
       "      <th></th>\n",
       "      <th></th>\n",
       "      <th></th>\n",
       "      <th></th>\n",
       "      <th></th>\n",
       "      <th></th>\n",
       "      <th></th>\n",
       "    </tr>\n",
       "  </thead>\n",
       "  <tbody>\n",
       "    <tr>\n",
       "      <th>0</th>\n",
       "      <td>-0.318994</td>\n",
       "      <td>-0.313575</td>\n",
       "      <td>-0.237837</td>\n",
       "      <td>-0.309273</td>\n",
       "      <td>-0.350186</td>\n",
       "      <td>-0.335398</td>\n",
       "      <td>-0.216320</td>\n",
       "      <td>-0.250405</td>\n",
       "      <td>-0.290996</td>\n",
       "      <td>-0.361773</td>\n",
       "      <td>-0.373913</td>\n",
       "      <td>-0.365226</td>\n",
       "      <td>-0.352059</td>\n",
       "      <td>-0.379495</td>\n",
       "      <td>-0.335854</td>\n",
       "      <td>-0.305910</td>\n",
       "    </tr>\n",
       "    <tr>\n",
       "      <th>1</th>\n",
       "      <td>4.613483</td>\n",
       "      <td>4.661997</td>\n",
       "      <td>4.730443</td>\n",
       "      <td>5.065017</td>\n",
       "      <td>5.235690</td>\n",
       "      <td>5.061647</td>\n",
       "      <td>4.188874</td>\n",
       "      <td>4.128248</td>\n",
       "      <td>4.526146</td>\n",
       "      <td>4.546658</td>\n",
       "      <td>3.852105</td>\n",
       "      <td>3.557237</td>\n",
       "      <td>4.132376</td>\n",
       "      <td>3.875067</td>\n",
       "      <td>3.055628</td>\n",
       "      <td>4.683072</td>\n",
       "    </tr>\n",
       "    <tr>\n",
       "      <th>2</th>\n",
       "      <td>0.041040</td>\n",
       "      <td>0.026093</td>\n",
       "      <td>-0.155914</td>\n",
       "      <td>0.032657</td>\n",
       "      <td>0.159260</td>\n",
       "      <td>0.102422</td>\n",
       "      <td>-0.217410</td>\n",
       "      <td>-0.131980</td>\n",
       "      <td>-0.028681</td>\n",
       "      <td>0.169818</td>\n",
       "      <td>0.208662</td>\n",
       "      <td>0.189456</td>\n",
       "      <td>0.138048</td>\n",
       "      <td>0.223704</td>\n",
       "      <td>0.125403</td>\n",
       "      <td>0.009828</td>\n",
       "    </tr>\n",
       "    <tr>\n",
       "      <th>3</th>\n",
       "      <td>4.185911</td>\n",
       "      <td>4.144671</td>\n",
       "      <td>3.881873</td>\n",
       "      <td>3.544691</td>\n",
       "      <td>3.167849</td>\n",
       "      <td>3.538249</td>\n",
       "      <td>4.475920</td>\n",
       "      <td>4.585290</td>\n",
       "      <td>4.228215</td>\n",
       "      <td>4.076756</td>\n",
       "      <td>4.696093</td>\n",
       "      <td>4.950310</td>\n",
       "      <td>4.558793</td>\n",
       "      <td>4.669542</td>\n",
       "      <td>5.304704</td>\n",
       "      <td>4.080214</td>\n",
       "    </tr>\n",
       "  </tbody>\n",
       "</table>\n",
       "</div>"
      ],
      "text/plain": [
       "    Población de 18 años y más  Sin educación superior  Tecnico1  Tecnico2  \\\n",
       "cl                                                                           \n",
       "0                    -0.318994               -0.313575 -0.237837 -0.309273   \n",
       "1                     4.613483                4.661997  4.730443  5.065017   \n",
       "2                     0.041040                0.026093 -0.155914  0.032657   \n",
       "3                     4.185911                4.144671  3.881873  3.544691   \n",
       "\n",
       "    Tecnico3,4  No especificado  Profesional1  Profesional2  Profesional3  \\\n",
       "cl                                                                          \n",
       "0    -0.350186        -0.335398     -0.216320     -0.250405     -0.290996   \n",
       "1     5.235690         5.061647      4.188874      4.128248      4.526146   \n",
       "2     0.159260         0.102422     -0.217410     -0.131980     -0.028681   \n",
       "3     3.167849         3.538249      4.475920      4.585290      4.228215   \n",
       "\n",
       "    Profesional4  Profesional5  Profesional6  No especificado.1  Maestría  \\\n",
       "cl                                                                          \n",
       "0      -0.361773     -0.373913     -0.365226          -0.352059 -0.379495   \n",
       "1       4.546658      3.852105      3.557237           4.132376  3.875067   \n",
       "2       0.169818      0.208662      0.189456           0.138048  0.223704   \n",
       "3       4.076756      4.696093      4.950310           4.558793  4.669542   \n",
       "\n",
       "    Doctorado  No especificado.2  \n",
       "cl                                \n",
       "0   -0.335854          -0.305910  \n",
       "1    3.055628           4.683072  \n",
       "2    0.125403           0.009828  \n",
       "3    5.304704           4.080214  "
      ]
     },
     "execution_count": 97,
     "metadata": {},
     "output_type": "execute_result"
    }
   ],
   "source": [
    "Xs.groupby('cl').mean()"
   ]
  },
  {
   "cell_type": "code",
   "execution_count": null,
   "metadata": {},
   "outputs": [],
   "source": []
  }
 ],
 "metadata": {
  "kernelspec": {
   "display_name": "Python 3",
   "language": "python",
   "name": "python3"
  },
  "language_info": {
   "codemirror_mode": {
    "name": "ipython",
    "version": 3
   },
   "file_extension": ".py",
   "mimetype": "text/x-python",
   "name": "python",
   "nbconvert_exporter": "python",
   "pygments_lexer": "ipython3",
   "version": "3.6.0"
  }
 },
 "nbformat": 4,
 "nbformat_minor": 2
}
