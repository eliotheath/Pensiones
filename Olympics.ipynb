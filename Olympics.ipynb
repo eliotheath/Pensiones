{
 "cells": [
  {
   "cell_type": "code",
   "execution_count": 1,
   "metadata": {},
   "outputs": [],
   "source": [
    "import pandas as pd\n",
    "import numpy as np\n",
    "import re\n",
    "import seaborn as sns\n",
    "import matplotlib.pyplot as plt\n",
    "from factor_analyzer import FactorAnalyzer\n",
    "from sklearn.decomposition import PCA\n",
    "from sklearn.preprocessing import StandardScaler\n",
    "from sklearn.mixture import GaussianMixture\n",
    "from sklearn.cluster import KMeans\n",
    "%matplotlib inline"
   ]
  },
  {
   "cell_type": "markdown",
   "metadata": {},
   "source": [
    "### Importacion de las tablas de datos"
   ]
  },
  {
   "cell_type": "code",
   "execution_count": 2,
   "metadata": {},
   "outputs": [],
   "source": [
    "atl = pd.read_csv(\"/home/mcorral/FES/amv_2019_2/olympics/athlete_events.csv\")\n",
    "reg = pd.read_csv(\"/home/mcorral/FES/amv_2019_2/olympics/noc_regions.csv\")"
   ]
  },
  {
   "cell_type": "markdown",
   "metadata": {},
   "source": [
    "### Imputación variable discreta (medallas)"
   ]
  },
  {
   "cell_type": "code",
   "execution_count": 3,
   "metadata": {},
   "outputs": [],
   "source": [
    "atl['Medal'] = atl['Medal'].fillna('Ninguna')"
   ]
  },
  {
   "cell_type": "code",
   "execution_count": 4,
   "metadata": {},
   "outputs": [],
   "source": [
    "atl = atl.dropna()"
   ]
  },
  {
   "cell_type": "markdown",
   "metadata": {},
   "source": [
    "### Naturaleza de las variables"
   ]
  },
  {
   "cell_type": "code",
   "execution_count": 5,
   "metadata": {
    "scrolled": true
   },
   "outputs": [
    {
     "name": "stdout",
     "output_type": "stream",
     "text": [
      "<class 'pandas.core.frame.DataFrame'>\n",
      "Int64Index: 206165 entries, 0 to 271115\n",
      "Data columns (total 15 columns):\n",
      "ID        206165 non-null int64\n",
      "Name      206165 non-null object\n",
      "Sex       206165 non-null object\n",
      "Age       206165 non-null float64\n",
      "Height    206165 non-null float64\n",
      "Weight    206165 non-null float64\n",
      "Team      206165 non-null object\n",
      "NOC       206165 non-null object\n",
      "Games     206165 non-null object\n",
      "Year      206165 non-null int64\n",
      "Season    206165 non-null object\n",
      "City      206165 non-null object\n",
      "Sport     206165 non-null object\n",
      "Event     206165 non-null object\n",
      "Medal     206165 non-null object\n",
      "dtypes: float64(3), int64(2), object(10)\n",
      "memory usage: 25.2+ MB\n"
     ]
    }
   ],
   "source": [
    "atl.info()"
   ]
  },
  {
   "cell_type": "code",
   "execution_count": 6,
   "metadata": {
    "scrolled": true
   },
   "outputs": [
    {
     "data": {
      "text/plain": [
       "ID        0.0\n",
       "Name      0.0\n",
       "Sex       0.0\n",
       "Age       0.0\n",
       "Height    0.0\n",
       "Weight    0.0\n",
       "Team      0.0\n",
       "NOC       0.0\n",
       "Games     0.0\n",
       "Year      0.0\n",
       "Season    0.0\n",
       "City      0.0\n",
       "Sport     0.0\n",
       "Event     0.0\n",
       "Medal     0.0\n",
       "dtype: float64"
      ]
     },
     "execution_count": 6,
     "metadata": {},
     "output_type": "execute_result"
    }
   ],
   "source": [
    "1 - atl.count()/atl.shape[0]"
   ]
  },
  {
   "cell_type": "markdown",
   "metadata": {},
   "source": [
    "### Imputacion de variables"
   ]
  },
  {
   "cell_type": "code",
   "execution_count": 98,
   "metadata": {},
   "outputs": [],
   "source": [
    "atl_cont = ['Age','Height','Weight']\n",
    "atl_dis = [x for x in atl.columns if x not in atl_cont]"
   ]
  },
  {
   "cell_type": "code",
   "execution_count": 99,
   "metadata": {
    "scrolled": true
   },
   "outputs": [
    {
     "data": {
      "text/plain": [
       "array([[<matplotlib.axes._subplots.AxesSubplot object at 0x7f35064bf080>,\n",
       "        <matplotlib.axes._subplots.AxesSubplot object at 0x7f3506715fd0>],\n",
       "       [<matplotlib.axes._subplots.AxesSubplot object at 0x7f3505ee1240>,\n",
       "        <matplotlib.axes._subplots.AxesSubplot object at 0x7f3504ab9470>]],\n",
       "      dtype=object)"
      ]
     },
     "execution_count": 99,
     "metadata": {},
     "output_type": "execute_result"
    },
    {
     "data": {
      "image/png": "[encoded data removed]",
      "text/plain": [
       "<Figure size 432x288 with 4 Axes>"
      ]
     },
     "metadata": {
      "needs_background": "light"
     },
     "output_type": "display_data"
    }
   ],
   "source": [
    "atl[atl_cont].hist()"
   ]
  },
  {
   "cell_type": "markdown",
   "metadata": {},
   "source": [
    "### Inputacion de las columnas continuas, con la media"
   ]
  },
  {
   "cell_type": "code",
   "execution_count": 100,
   "metadata": {},
   "outputs": [],
   "source": [
    "for x in atl_cont:\n",
    "    atl[x] = atl[x].fillna(atl[x].mean())"
   ]
  },
  {
   "cell_type": "code",
   "execution_count": 101,
   "metadata": {},
   "outputs": [
    {
     "data": {
      "text/plain": [
       "array([[<matplotlib.axes._subplots.AxesSubplot object at 0x7f3506b95048>,\n",
       "        <matplotlib.axes._subplots.AxesSubplot object at 0x7f3506ae7ac8>],\n",
       "       [<matplotlib.axes._subplots.AxesSubplot object at 0x7f3506b1fcf8>,\n",
       "        <matplotlib.axes._subplots.AxesSubplot object at 0x7f3506b52f60>]],\n",
       "      dtype=object)"
      ]
     },
     "execution_count": 101,
     "metadata": {},
     "output_type": "execute_result"
    },
    {
     "data": {
      "image/png": "[encoded data removed]",
      "text/plain": [
       "<Figure size 432x288 with 4 Axes>"
      ]
     },
     "metadata": {
      "needs_background": "light"
     },
     "output_type": "display_data"
    }
   ],
   "source": [
    "atl[atl_cont].hist()"
   ]
  },
  {
   "cell_type": "markdown",
   "metadata": {},
   "source": [
    "## Análisis Factorial"
   ]
  },
  {
   "cell_type": "code",
   "execution_count": 102,
   "metadata": {},
   "outputs": [],
   "source": [
    "df = atl[atl_cont]"
   ]
  },
  {
   "cell_type": "code",
   "execution_count": 103,
   "metadata": {},
   "outputs": [],
   "source": [
    "sc = StandardScaler()\n",
    "sc.fit(df)\n",
    "Xs = pd.DataFrame(sc.transform(df),columns=df.columns)"
   ]
  },
  {
   "cell_type": "markdown",
   "metadata": {},
   "source": [
    "## Componentes principales "
   ]
  },
  {
   "cell_type": "code",
   "execution_count": 117,
   "metadata": {},
   "outputs": [],
   "source": [
    "pca =PCA()\n",
    "pca.fit(Xs)\n",
    "Xp=pd.DataFrame(pca.transform(Xs),columns=['p%d'%i for i in range(1,4)])"
   ]
  },
  {
   "cell_type": "code",
   "execution_count": 106,
   "metadata": {
    "scrolled": true
   },
   "outputs": [
    {
     "data": {
      "text/html": [
       "<div>\n",
       "<style scoped>\n",
       "    .dataframe tbody tr th:only-of-type {\n",
       "        vertical-align: middle;\n",
       "    }\n",
       "\n",
       "    .dataframe tbody tr th {\n",
       "        vertical-align: top;\n",
       "    }\n",
       "\n",
       "    .dataframe thead th {\n",
       "        text-align: right;\n",
       "    }\n",
       "</style>\n",
       "<table border=\"1\" class=\"dataframe\">\n",
       "  <thead>\n",
       "    <tr style=\"text-align: right;\">\n",
       "      <th></th>\n",
       "      <th>p1</th>\n",
       "      <th>p2</th>\n",
       "      <th>p3</th>\n",
       "    </tr>\n",
       "  </thead>\n",
       "  <tbody>\n",
       "    <tr>\n",
       "      <th>p1</th>\n",
       "      <td>1.000000e+00</td>\n",
       "      <td>2.585752e-16</td>\n",
       "      <td>-7.309960e-16</td>\n",
       "    </tr>\n",
       "    <tr>\n",
       "      <th>p2</th>\n",
       "      <td>2.585752e-16</td>\n",
       "      <td>1.000000e+00</td>\n",
       "      <td>2.892992e-17</td>\n",
       "    </tr>\n",
       "    <tr>\n",
       "      <th>p3</th>\n",
       "      <td>-7.309960e-16</td>\n",
       "      <td>2.892992e-17</td>\n",
       "      <td>1.000000e+00</td>\n",
       "    </tr>\n",
       "  </tbody>\n",
       "</table>\n",
       "</div>"
      ],
      "text/plain": [
       "              p1            p2            p3\n",
       "p1  1.000000e+00  2.585752e-16 -7.309960e-16\n",
       "p2  2.585752e-16  1.000000e+00  2.892992e-17\n",
       "p3 -7.309960e-16  2.892992e-17  1.000000e+00"
      ]
     },
     "execution_count": 106,
     "metadata": {},
     "output_type": "execute_result"
    }
   ],
   "source": [
    "Xp.corr()"
   ]
  },
  {
   "cell_type": "code",
   "execution_count": 107,
   "metadata": {},
   "outputs": [
    {
     "data": {
      "text/plain": [
       "array([0.62290386, 0.31037162, 0.06672452])"
      ]
     },
     "execution_count": 107,
     "metadata": {},
     "output_type": "execute_result"
    }
   ],
   "source": [
    "pca.explained_variance_ratio_"
   ]
  },
  {
   "cell_type": "code",
   "execution_count": 108,
   "metadata": {},
   "outputs": [
    {
     "data": {
      "text/plain": [
       "array([0.62290386, 0.93327548, 1.        ])"
      ]
     },
     "execution_count": 108,
     "metadata": {},
     "output_type": "execute_result"
    }
   ],
   "source": [
    "np.cumsum(pca.explained_variance_ratio_)"
   ]
  },
  {
   "cell_type": "code",
   "execution_count": 110,
   "metadata": {},
   "outputs": [
    {
     "data": {
      "text/html": [
       "<div>\n",
       "<style scoped>\n",
       "    .dataframe tbody tr th:only-of-type {\n",
       "        vertical-align: middle;\n",
       "    }\n",
       "\n",
       "    .dataframe tbody tr th {\n",
       "        vertical-align: top;\n",
       "    }\n",
       "\n",
       "    .dataframe thead th {\n",
       "        text-align: right;\n",
       "    }\n",
       "</style>\n",
       "<table border=\"1\" class=\"dataframe\">\n",
       "  <thead>\n",
       "    <tr style=\"text-align: right;\">\n",
       "      <th></th>\n",
       "      <th>Factor1</th>\n",
       "      <th>Factor2</th>\n",
       "    </tr>\n",
       "  </thead>\n",
       "  <tbody>\n",
       "    <tr>\n",
       "      <th>Age</th>\n",
       "      <td>0.094957</td>\n",
       "      <td>0.309778</td>\n",
       "    </tr>\n",
       "    <tr>\n",
       "      <th>Height</th>\n",
       "      <td>0.877341</td>\n",
       "      <td>0.188440</td>\n",
       "    </tr>\n",
       "    <tr>\n",
       "      <th>Weight</th>\n",
       "      <td>0.814549</td>\n",
       "      <td>0.434806</td>\n",
       "    </tr>\n",
       "  </tbody>\n",
       "</table>\n",
       "</div>"
      ],
      "text/plain": [
       "         Factor1   Factor2\n",
       "Age     0.094957  0.309778\n",
       "Height  0.877341  0.188440\n",
       "Weight  0.814549  0.434806"
      ]
     },
     "execution_count": 110,
     "metadata": {},
     "output_type": "execute_result"
    }
   ],
   "source": [
    "fa =FactorAnalyzer()\n",
    "\n",
    "fa.analyze(Xs,2,rotation='varimax')\n",
    "\n",
    "fa.loadings"
   ]
  },
  {
   "cell_type": "code",
   "execution_count": 111,
   "metadata": {},
   "outputs": [],
   "source": [
    "aux = Xp.sample(200)"
   ]
  },
  {
   "cell_type": "code",
   "execution_count": 112,
   "metadata": {
    "scrolled": false
   },
   "outputs": [
    {
     "data": {
      "text/plain": [
       "<matplotlib.collections.PathCollection at 0x7f3500c48080>"
      ]
     },
     "execution_count": 112,
     "metadata": {},
     "output_type": "execute_result"
    },
    {
     "data": {
      "image/png": "[encoded data removed]",
      "text/plain": [
       "<Figure size 432x288 with 1 Axes>"
      ]
     },
     "metadata": {
      "needs_background": "light"
     },
     "output_type": "display_data"
    }
   ],
   "source": [
    "plt.scatter(aux['p1'],aux['p2'])"
   ]
  },
  {
   "cell_type": "code",
   "execution_count": 113,
   "metadata": {},
   "outputs": [],
   "source": []
  },
  {
   "cell_type": "markdown",
   "metadata": {},
   "source": [
    "## Clusters"
   ]
  },
  {
   "cell_type": "code",
   "execution_count": 23,
   "metadata": {},
   "outputs": [],
   "source": [
    "ls = []\n",
    "for x in range(2,10) :\n",
    "    km = KMeans(n_clusters= x)\n",
    "    km.fit(Xs)\n",
    "    ls.append(km.inertia_)"
   ]
  },
  {
   "cell_type": "code",
   "execution_count": 24,
   "metadata": {},
   "outputs": [
    {
     "data": {
      "text/plain": [
       "[<matplotlib.lines.Line2D at 0x7f3506d07908>]"
      ]
     },
     "execution_count": 24,
     "metadata": {},
     "output_type": "execute_result"
    },
    {
     "data": {
      "image/png": "[encoded data removed]",
      "text/plain": [
       "<Figure size 432x288 with 1 Axes>"
      ]
     },
     "metadata": {
      "needs_background": "light"
     },
     "output_type": "display_data"
    }
   ],
   "source": [
    "plt.plot(range(2,10),ls,marker='o')"
   ]
  },
  {
   "cell_type": "code",
   "execution_count": 131,
   "metadata": {},
   "outputs": [],
   "source": [
    "gmm = GaussianMixture(n_components=4)\n",
    "\n",
    "gmm.fit(Xs)\n",
    "\n",
    "Xs['gmm']=gmm.predict(Xs)\n",
    "Xp['gmm']=gmm.predict(Xs)"
   ]
  },
  {
   "cell_type": "code",
   "execution_count": 132,
   "metadata": {},
   "outputs": [
    {
     "data": {
      "text/plain": [
       "<seaborn.axisgrid.FacetGrid at 0x7f350103b630>"
      ]
     },
     "execution_count": 132,
     "metadata": {},
     "output_type": "execute_result"
    },
    {
     "data": {
      "image/png": "[encoded data removed]",
      "text/plain": [
       "<Figure size 402.375x360 with 1 Axes>"
      ]
     },
     "metadata": {
      "needs_background": "light"
     },
     "output_type": "display_data"
    }
   ],
   "source": [
    "sns.lmplot('p1','p2',Xp,hue='gmm',fit_reg=False)"
   ]
  },
  {
   "cell_type": "code",
   "execution_count": 134,
   "metadata": {
    "scrolled": true
   },
   "outputs": [
    {
     "data": {
      "text/html": [
       "<div>\n",
       "<style scoped>\n",
       "    .dataframe tbody tr th:only-of-type {\n",
       "        vertical-align: middle;\n",
       "    }\n",
       "\n",
       "    .dataframe tbody tr th {\n",
       "        vertical-align: top;\n",
       "    }\n",
       "\n",
       "    .dataframe thead th {\n",
       "        text-align: right;\n",
       "    }\n",
       "</style>\n",
       "<table border=\"1\" class=\"dataframe\">\n",
       "  <thead>\n",
       "    <tr style=\"text-align: right;\">\n",
       "      <th></th>\n",
       "      <th>Age</th>\n",
       "      <th>Height</th>\n",
       "      <th>Weight</th>\n",
       "    </tr>\n",
       "    <tr>\n",
       "      <th>gmm</th>\n",
       "      <th></th>\n",
       "      <th></th>\n",
       "      <th></th>\n",
       "    </tr>\n",
       "  </thead>\n",
       "  <tbody>\n",
       "    <tr>\n",
       "      <th>0</th>\n",
       "      <td>0.078658</td>\n",
       "      <td>1.907950</td>\n",
       "      <td>2.840923</td>\n",
       "    </tr>\n",
       "    <tr>\n",
       "      <th>1</th>\n",
       "      <td>-0.275959</td>\n",
       "      <td>-0.369146</td>\n",
       "      <td>-0.442344</td>\n",
       "    </tr>\n",
       "    <tr>\n",
       "      <th>2</th>\n",
       "      <td>1.481687</td>\n",
       "      <td>0.241167</td>\n",
       "      <td>0.666427</td>\n",
       "    </tr>\n",
       "    <tr>\n",
       "      <th>3</th>\n",
       "      <td>-0.162314</td>\n",
       "      <td>1.171169</td>\n",
       "      <td>1.024542</td>\n",
       "    </tr>\n",
       "  </tbody>\n",
       "</table>\n",
       "</div>"
      ],
      "text/plain": [
       "          Age    Height    Weight\n",
       "gmm                              \n",
       "0    0.078658  1.907950  2.840923\n",
       "1   -0.275959 -0.369146 -0.442344\n",
       "2    1.481687  0.241167  0.666427\n",
       "3   -0.162314  1.171169  1.024542"
      ]
     },
     "execution_count": 134,
     "metadata": {},
     "output_type": "execute_result"
    }
   ],
   "source": [
    "Xs.groupby('gmm').mean()"
   ]
  },
  {
   "cell_type": "code",
   "execution_count": 120,
   "metadata": {
    "scrolled": true
   },
   "outputs": [
    {
     "data": {
      "text/html": [
       "<div>\n",
       "<style scoped>\n",
       "    .dataframe tbody tr th:only-of-type {\n",
       "        vertical-align: middle;\n",
       "    }\n",
       "\n",
       "    .dataframe tbody tr th {\n",
       "        vertical-align: top;\n",
       "    }\n",
       "\n",
       "    .dataframe thead th {\n",
       "        text-align: right;\n",
       "    }\n",
       "</style>\n",
       "<table border=\"1\" class=\"dataframe\">\n",
       "  <thead>\n",
       "    <tr style=\"text-align: right;\">\n",
       "      <th></th>\n",
       "      <th>ID</th>\n",
       "      <th>Name</th>\n",
       "      <th>Sex</th>\n",
       "      <th>Age</th>\n",
       "      <th>Height</th>\n",
       "      <th>Weight</th>\n",
       "      <th>Team</th>\n",
       "      <th>NOC</th>\n",
       "      <th>Games</th>\n",
       "      <th>Year</th>\n",
       "      <th>Season</th>\n",
       "      <th>City</th>\n",
       "      <th>Sport</th>\n",
       "      <th>Event</th>\n",
       "      <th>Medal</th>\n",
       "    </tr>\n",
       "  </thead>\n",
       "  <tbody>\n",
       "    <tr>\n",
       "      <th>0</th>\n",
       "      <td>1</td>\n",
       "      <td>A Dijiang</td>\n",
       "      <td>M</td>\n",
       "      <td>24.0</td>\n",
       "      <td>180.0</td>\n",
       "      <td>80.0</td>\n",
       "      <td>China</td>\n",
       "      <td>CHN</td>\n",
       "      <td>1992 Summer</td>\n",
       "      <td>1992</td>\n",
       "      <td>Summer</td>\n",
       "      <td>Barcelona</td>\n",
       "      <td>Basketball</td>\n",
       "      <td>Basketball Men's Basketball</td>\n",
       "      <td>Ninguna</td>\n",
       "    </tr>\n",
       "  </tbody>\n",
       "</table>\n",
       "</div>"
      ],
      "text/plain": [
       "   ID       Name Sex   Age  Height  Weight   Team  NOC        Games  Year  \\\n",
       "0   1  A Dijiang   M  24.0   180.0    80.0  China  CHN  1992 Summer  1992   \n",
       "\n",
       "   Season       City       Sport                        Event    Medal  \n",
       "0  Summer  Barcelona  Basketball  Basketball Men's Basketball  Ninguna  "
      ]
     },
     "execution_count": 120,
     "metadata": {},
     "output_type": "execute_result"
    }
   ],
   "source": [
    "atl.head(1)"
   ]
  },
  {
   "cell_type": "code",
   "execution_count": 135,
   "metadata": {},
   "outputs": [],
   "source": [
    "sport = Xs.merge(atl[['Sport']],how='left',left_index=True,right_index=True)\n",
    "medal = Xs.merge(atl[['Medal']],how='left',left_index=True,right_index=True)\n",
    "sex =  Xs.merge(atl[['Sex']],how='left',left_index=True,right_index=True)"
   ]
  },
  {
   "cell_type": "code",
   "execution_count": null,
   "metadata": {},
   "outputs": [],
   "source": []
  },
  {
   "cell_type": "code",
   "execution_count": 147,
   "metadata": {},
   "outputs": [],
   "source": [
    "aux2 = sport.pivot_table(index='Sport',columns='gmm',aggfunc='count',values='Age').fillna(0).reset_index()"
   ]
  },
  {
   "cell_type": "code",
   "execution_count": 151,
   "metadata": {},
   "outputs": [],
   "source": [
    "for x in range(4):\n",
    "    aux2[x]= aux2[x]/aux2.sum(axis = 1)"
   ]
  },
  {
   "cell_type": "code",
   "execution_count": 152,
   "metadata": {},
   "outputs": [
    {
     "data": {
      "text/html": [
       "<div>\n",
       "<style scoped>\n",
       "    .dataframe tbody tr th:only-of-type {\n",
       "        vertical-align: middle;\n",
       "    }\n",
       "\n",
       "    .dataframe tbody tr th {\n",
       "        vertical-align: top;\n",
       "    }\n",
       "\n",
       "    .dataframe thead th {\n",
       "        text-align: right;\n",
       "    }\n",
       "</style>\n",
       "<table border=\"1\" class=\"dataframe\">\n",
       "  <thead>\n",
       "    <tr style=\"text-align: right;\">\n",
       "      <th>gmm</th>\n",
       "      <th>Sport</th>\n",
       "      <th>0</th>\n",
       "      <th>1</th>\n",
       "      <th>2</th>\n",
       "      <th>3</th>\n",
       "    </tr>\n",
       "  </thead>\n",
       "  <tbody>\n",
       "    <tr>\n",
       "      <th>0</th>\n",
       "      <td>Alpine Skiing</td>\n",
       "      <td>0.014916</td>\n",
       "      <td>0.688029</td>\n",
       "      <td>0.468531</td>\n",
       "      <td>0.998536</td>\n",
       "    </tr>\n",
       "    <tr>\n",
       "      <th>1</th>\n",
       "      <td>Archery</td>\n",
       "      <td>0.011380</td>\n",
       "      <td>0.704311</td>\n",
       "      <td>0.439624</td>\n",
       "      <td>0.995002</td>\n",
       "    </tr>\n",
       "    <tr>\n",
       "      <th>2</th>\n",
       "      <td>Art Competitions</td>\n",
       "      <td>0.000000</td>\n",
       "      <td>0.666667</td>\n",
       "      <td>0.521739</td>\n",
       "      <td>0.716263</td>\n",
       "    </tr>\n",
       "    <tr>\n",
       "      <th>3</th>\n",
       "      <td>Athletics</td>\n",
       "      <td>0.014098</td>\n",
       "      <td>0.686504</td>\n",
       "      <td>0.478899</td>\n",
       "      <td>0.999707</td>\n",
       "    </tr>\n",
       "    <tr>\n",
       "      <th>4</th>\n",
       "      <td>Badminton</td>\n",
       "      <td>0.019173</td>\n",
       "      <td>0.670769</td>\n",
       "      <td>0.424086</td>\n",
       "      <td>0.993982</td>\n",
       "    </tr>\n",
       "    <tr>\n",
       "      <th>5</th>\n",
       "      <td>Baseball</td>\n",
       "      <td>0.022796</td>\n",
       "      <td>0.715371</td>\n",
       "      <td>0.457172</td>\n",
       "      <td>0.988070</td>\n",
       "    </tr>\n",
       "    <tr>\n",
       "      <th>6</th>\n",
       "      <td>Basketball</td>\n",
       "      <td>0.015189</td>\n",
       "      <td>0.692607</td>\n",
       "      <td>0.511829</td>\n",
       "      <td>0.997091</td>\n",
       "    </tr>\n",
       "    <tr>\n",
       "      <th>7</th>\n",
       "      <td>Beach Volleyball</td>\n",
       "      <td>0.005025</td>\n",
       "      <td>0.727263</td>\n",
       "      <td>0.432254</td>\n",
       "      <td>0.981267</td>\n",
       "    </tr>\n",
       "    <tr>\n",
       "      <th>8</th>\n",
       "      <td>Biathlon</td>\n",
       "      <td>0.012059</td>\n",
       "      <td>0.703778</td>\n",
       "      <td>0.501147</td>\n",
       "      <td>0.997552</td>\n",
       "    </tr>\n",
       "    <tr>\n",
       "      <th>9</th>\n",
       "      <td>Bobsleigh</td>\n",
       "      <td>0.012315</td>\n",
       "      <td>0.690144</td>\n",
       "      <td>0.486234</td>\n",
       "      <td>0.995360</td>\n",
       "    </tr>\n",
       "    <tr>\n",
       "      <th>10</th>\n",
       "      <td>Boxing</td>\n",
       "      <td>0.014832</td>\n",
       "      <td>0.703098</td>\n",
       "      <td>0.449977</td>\n",
       "      <td>0.997850</td>\n",
       "    </tr>\n",
       "    <tr>\n",
       "      <th>11</th>\n",
       "      <td>Canoeing</td>\n",
       "      <td>0.013317</td>\n",
       "      <td>0.703300</td>\n",
       "      <td>0.440848</td>\n",
       "      <td>0.998320</td>\n",
       "    </tr>\n",
       "    <tr>\n",
       "      <th>12</th>\n",
       "      <td>Cross Country Skiing</td>\n",
       "      <td>0.014608</td>\n",
       "      <td>0.692622</td>\n",
       "      <td>0.485565</td>\n",
       "      <td>0.998654</td>\n",
       "    </tr>\n",
       "    <tr>\n",
       "      <th>13</th>\n",
       "      <td>Curling</td>\n",
       "      <td>0.009646</td>\n",
       "      <td>0.639590</td>\n",
       "      <td>0.510527</td>\n",
       "      <td>0.978974</td>\n",
       "    </tr>\n",
       "    <tr>\n",
       "      <th>14</th>\n",
       "      <td>Cycling</td>\n",
       "      <td>0.011828</td>\n",
       "      <td>0.689465</td>\n",
       "      <td>0.468431</td>\n",
       "      <td>0.998789</td>\n",
       "    </tr>\n",
       "    <tr>\n",
       "      <th>15</th>\n",
       "      <td>Diving</td>\n",
       "      <td>0.011538</td>\n",
       "      <td>0.691953</td>\n",
       "      <td>0.405715</td>\n",
       "      <td>0.996082</td>\n",
       "    </tr>\n",
       "    <tr>\n",
       "      <th>16</th>\n",
       "      <td>Equestrianism</td>\n",
       "      <td>0.014418</td>\n",
       "      <td>0.684901</td>\n",
       "      <td>0.470447</td>\n",
       "      <td>0.997952</td>\n",
       "    </tr>\n",
       "    <tr>\n",
       "      <th>17</th>\n",
       "      <td>Fencing</td>\n",
       "      <td>0.013232</td>\n",
       "      <td>0.686101</td>\n",
       "      <td>0.477454</td>\n",
       "      <td>0.998544</td>\n",
       "    </tr>\n",
       "    <tr>\n",
       "      <th>18</th>\n",
       "      <td>Figure Skating</td>\n",
       "      <td>0.010909</td>\n",
       "      <td>0.721500</td>\n",
       "      <td>0.434593</td>\n",
       "      <td>0.993222</td>\n",
       "    </tr>\n",
       "    <tr>\n",
       "      <th>19</th>\n",
       "      <td>Football</td>\n",
       "      <td>0.014555</td>\n",
       "      <td>0.688094</td>\n",
       "      <td>0.464878</td>\n",
       "      <td>0.997977</td>\n",
       "    </tr>\n",
       "    <tr>\n",
       "      <th>20</th>\n",
       "      <td>Freestyle Skiing</td>\n",
       "      <td>0.020029</td>\n",
       "      <td>0.719687</td>\n",
       "      <td>0.461763</td>\n",
       "      <td>0.988470</td>\n",
       "    </tr>\n",
       "    <tr>\n",
       "      <th>21</th>\n",
       "      <td>Golf</td>\n",
       "      <td>0.023256</td>\n",
       "      <td>0.618876</td>\n",
       "      <td>0.551435</td>\n",
       "      <td>0.921443</td>\n",
       "    </tr>\n",
       "    <tr>\n",
       "      <th>22</th>\n",
       "      <td>Gymnastics</td>\n",
       "      <td>0.014372</td>\n",
       "      <td>0.693055</td>\n",
       "      <td>0.483603</td>\n",
       "      <td>0.999447</td>\n",
       "    </tr>\n",
       "    <tr>\n",
       "      <th>23</th>\n",
       "      <td>Handball</td>\n",
       "      <td>0.010929</td>\n",
       "      <td>0.702049</td>\n",
       "      <td>0.473725</td>\n",
       "      <td>0.997020</td>\n",
       "    </tr>\n",
       "    <tr>\n",
       "      <th>24</th>\n",
       "      <td>Hockey</td>\n",
       "      <td>0.013342</td>\n",
       "      <td>0.688664</td>\n",
       "      <td>0.447452</td>\n",
       "      <td>0.997852</td>\n",
       "    </tr>\n",
       "    <tr>\n",
       "      <th>25</th>\n",
       "      <td>Ice Hockey</td>\n",
       "      <td>0.014109</td>\n",
       "      <td>0.707809</td>\n",
       "      <td>0.468023</td>\n",
       "      <td>0.997721</td>\n",
       "    </tr>\n",
       "    <tr>\n",
       "      <th>26</th>\n",
       "      <td>Judo</td>\n",
       "      <td>0.014324</td>\n",
       "      <td>0.673602</td>\n",
       "      <td>0.477343</td>\n",
       "      <td>0.997322</td>\n",
       "    </tr>\n",
       "    <tr>\n",
       "      <th>27</th>\n",
       "      <td>Lacrosse</td>\n",
       "      <td>0.000000</td>\n",
       "      <td>0.000000</td>\n",
       "      <td>1.000000</td>\n",
       "      <td>0.000000</td>\n",
       "    </tr>\n",
       "    <tr>\n",
       "      <th>28</th>\n",
       "      <td>Luge</td>\n",
       "      <td>0.009891</td>\n",
       "      <td>0.700293</td>\n",
       "      <td>0.472215</td>\n",
       "      <td>0.992572</td>\n",
       "    </tr>\n",
       "    <tr>\n",
       "      <th>29</th>\n",
       "      <td>Modern Pentathlon</td>\n",
       "      <td>0.011411</td>\n",
       "      <td>0.697788</td>\n",
       "      <td>0.457207</td>\n",
       "      <td>0.992579</td>\n",
       "    </tr>\n",
       "    <tr>\n",
       "      <th>30</th>\n",
       "      <td>Motorboating</td>\n",
       "      <td>0.000000</td>\n",
       "      <td>1.000000</td>\n",
       "      <td>0.000000</td>\n",
       "      <td>0.000000</td>\n",
       "    </tr>\n",
       "    <tr>\n",
       "      <th>31</th>\n",
       "      <td>Nordic Combined</td>\n",
       "      <td>0.009804</td>\n",
       "      <td>0.673259</td>\n",
       "      <td>0.487375</td>\n",
       "      <td>0.991405</td>\n",
       "    </tr>\n",
       "    <tr>\n",
       "      <th>32</th>\n",
       "      <td>Rhythmic Gymnastics</td>\n",
       "      <td>0.013100</td>\n",
       "      <td>0.714581</td>\n",
       "      <td>0.408548</td>\n",
       "      <td>0.985270</td>\n",
       "    </tr>\n",
       "    <tr>\n",
       "      <th>33</th>\n",
       "      <td>Rowing</td>\n",
       "      <td>0.017072</td>\n",
       "      <td>0.690875</td>\n",
       "      <td>0.489020</td>\n",
       "      <td>0.998672</td>\n",
       "    </tr>\n",
       "    <tr>\n",
       "      <th>34</th>\n",
       "      <td>Rugby</td>\n",
       "      <td>0.000000</td>\n",
       "      <td>0.642857</td>\n",
       "      <td>0.281879</td>\n",
       "      <td>0.883310</td>\n",
       "    </tr>\n",
       "    <tr>\n",
       "      <th>35</th>\n",
       "      <td>Rugby Sevens</td>\n",
       "      <td>0.017621</td>\n",
       "      <td>0.721916</td>\n",
       "      <td>0.510045</td>\n",
       "      <td>0.960013</td>\n",
       "    </tr>\n",
       "    <tr>\n",
       "      <th>36</th>\n",
       "      <td>Sailing</td>\n",
       "      <td>0.014597</td>\n",
       "      <td>0.672769</td>\n",
       "      <td>0.424451</td>\n",
       "      <td>0.998412</td>\n",
       "    </tr>\n",
       "    <tr>\n",
       "      <th>37</th>\n",
       "      <td>Shooting</td>\n",
       "      <td>0.013849</td>\n",
       "      <td>0.681559</td>\n",
       "      <td>0.470030</td>\n",
       "      <td>0.998742</td>\n",
       "    </tr>\n",
       "    <tr>\n",
       "      <th>38</th>\n",
       "      <td>Short Track Speed Skating</td>\n",
       "      <td>0.013501</td>\n",
       "      <td>0.681561</td>\n",
       "      <td>0.420366</td>\n",
       "      <td>0.994508</td>\n",
       "    </tr>\n",
       "    <tr>\n",
       "      <th>39</th>\n",
       "      <td>Skeleton</td>\n",
       "      <td>0.015625</td>\n",
       "      <td>0.634842</td>\n",
       "      <td>0.450156</td>\n",
       "      <td>0.957832</td>\n",
       "    </tr>\n",
       "    <tr>\n",
       "      <th>40</th>\n",
       "      <td>Ski Jumping</td>\n",
       "      <td>0.009498</td>\n",
       "      <td>0.675338</td>\n",
       "      <td>0.522452</td>\n",
       "      <td>0.994686</td>\n",
       "    </tr>\n",
       "    <tr>\n",
       "      <th>41</th>\n",
       "      <td>Snowboarding</td>\n",
       "      <td>0.008392</td>\n",
       "      <td>0.703800</td>\n",
       "      <td>0.412885</td>\n",
       "      <td>0.990936</td>\n",
       "    </tr>\n",
       "    <tr>\n",
       "      <th>42</th>\n",
       "      <td>Softball</td>\n",
       "      <td>0.006623</td>\n",
       "      <td>0.659985</td>\n",
       "      <td>0.360390</td>\n",
       "      <td>0.984446</td>\n",
       "    </tr>\n",
       "    <tr>\n",
       "      <th>43</th>\n",
       "      <td>Speed Skating</td>\n",
       "      <td>0.010130</td>\n",
       "      <td>0.702268</td>\n",
       "      <td>0.465809</td>\n",
       "      <td>0.997635</td>\n",
       "    </tr>\n",
       "    <tr>\n",
       "      <th>44</th>\n",
       "      <td>Swimming</td>\n",
       "      <td>0.011179</td>\n",
       "      <td>0.688807</td>\n",
       "      <td>0.452698</td>\n",
       "      <td>0.999522</td>\n",
       "    </tr>\n",
       "    <tr>\n",
       "      <th>45</th>\n",
       "      <td>Synchronized Swimming</td>\n",
       "      <td>0.004754</td>\n",
       "      <td>0.679931</td>\n",
       "      <td>0.461116</td>\n",
       "      <td>0.989502</td>\n",
       "    </tr>\n",
       "    <tr>\n",
       "      <th>46</th>\n",
       "      <td>Table Tennis</td>\n",
       "      <td>0.010558</td>\n",
       "      <td>0.701214</td>\n",
       "      <td>0.488908</td>\n",
       "      <td>0.994032</td>\n",
       "    </tr>\n",
       "    <tr>\n",
       "      <th>47</th>\n",
       "      <td>Taekwondo</td>\n",
       "      <td>0.006424</td>\n",
       "      <td>0.702576</td>\n",
       "      <td>0.454188</td>\n",
       "      <td>0.984728</td>\n",
       "    </tr>\n",
       "    <tr>\n",
       "      <th>48</th>\n",
       "      <td>Tennis</td>\n",
       "      <td>0.010027</td>\n",
       "      <td>0.689394</td>\n",
       "      <td>0.484047</td>\n",
       "      <td>0.995031</td>\n",
       "    </tr>\n",
       "    <tr>\n",
       "      <th>49</th>\n",
       "      <td>Trampolining</td>\n",
       "      <td>0.008130</td>\n",
       "      <td>0.778637</td>\n",
       "      <td>0.647790</td>\n",
       "      <td>0.862519</td>\n",
       "    </tr>\n",
       "    <tr>\n",
       "      <th>50</th>\n",
       "      <td>Triathlon</td>\n",
       "      <td>0.012563</td>\n",
       "      <td>0.689545</td>\n",
       "      <td>0.423791</td>\n",
       "      <td>0.984170</td>\n",
       "    </tr>\n",
       "    <tr>\n",
       "      <th>51</th>\n",
       "      <td>Tug-Of-War</td>\n",
       "      <td>0.000000</td>\n",
       "      <td>0.812500</td>\n",
       "      <td>0.524590</td>\n",
       "      <td>0.427883</td>\n",
       "    </tr>\n",
       "    <tr>\n",
       "      <th>52</th>\n",
       "      <td>Volleyball</td>\n",
       "      <td>0.009559</td>\n",
       "      <td>0.680652</td>\n",
       "      <td>0.458192</td>\n",
       "      <td>0.997220</td>\n",
       "    </tr>\n",
       "    <tr>\n",
       "      <th>53</th>\n",
       "      <td>Water Polo</td>\n",
       "      <td>0.011640</td>\n",
       "      <td>0.686120</td>\n",
       "      <td>0.483952</td>\n",
       "      <td>0.996274</td>\n",
       "    </tr>\n",
       "    <tr>\n",
       "      <th>54</th>\n",
       "      <td>Weightlifting</td>\n",
       "      <td>0.016028</td>\n",
       "      <td>0.689588</td>\n",
       "      <td>0.445606</td>\n",
       "      <td>0.996980</td>\n",
       "    </tr>\n",
       "    <tr>\n",
       "      <th>55</th>\n",
       "      <td>Wrestling</td>\n",
       "      <td>0.010783</td>\n",
       "      <td>0.676354</td>\n",
       "      <td>0.481691</td>\n",
       "      <td>0.998194</td>\n",
       "    </tr>\n",
       "  </tbody>\n",
       "</table>\n",
       "</div>"
      ],
      "text/plain": [
       "gmm                      Sport         0         1         2         3\n",
       "0                Alpine Skiing  0.014916  0.688029  0.468531  0.998536\n",
       "1                      Archery  0.011380  0.704311  0.439624  0.995002\n",
       "2             Art Competitions  0.000000  0.666667  0.521739  0.716263\n",
       "3                    Athletics  0.014098  0.686504  0.478899  0.999707\n",
       "4                    Badminton  0.019173  0.670769  0.424086  0.993982\n",
       "5                     Baseball  0.022796  0.715371  0.457172  0.988070\n",
       "6                   Basketball  0.015189  0.692607  0.511829  0.997091\n",
       "7             Beach Volleyball  0.005025  0.727263  0.432254  0.981267\n",
       "8                     Biathlon  0.012059  0.703778  0.501147  0.997552\n",
       "9                    Bobsleigh  0.012315  0.690144  0.486234  0.995360\n",
       "10                      Boxing  0.014832  0.703098  0.449977  0.997850\n",
       "11                    Canoeing  0.013317  0.703300  0.440848  0.998320\n",
       "12        Cross Country Skiing  0.014608  0.692622  0.485565  0.998654\n",
       "13                     Curling  0.009646  0.639590  0.510527  0.978974\n",
       "14                     Cycling  0.011828  0.689465  0.468431  0.998789\n",
       "15                      Diving  0.011538  0.691953  0.405715  0.996082\n",
       "16               Equestrianism  0.014418  0.684901  0.470447  0.997952\n",
       "17                     Fencing  0.013232  0.686101  0.477454  0.998544\n",
       "18              Figure Skating  0.010909  0.721500  0.434593  0.993222\n",
       "19                    Football  0.014555  0.688094  0.464878  0.997977\n",
       "20            Freestyle Skiing  0.020029  0.719687  0.461763  0.988470\n",
       "21                        Golf  0.023256  0.618876  0.551435  0.921443\n",
       "22                  Gymnastics  0.014372  0.693055  0.483603  0.999447\n",
       "23                    Handball  0.010929  0.702049  0.473725  0.997020\n",
       "24                      Hockey  0.013342  0.688664  0.447452  0.997852\n",
       "25                  Ice Hockey  0.014109  0.707809  0.468023  0.997721\n",
       "26                        Judo  0.014324  0.673602  0.477343  0.997322\n",
       "27                    Lacrosse  0.000000  0.000000  1.000000  0.000000\n",
       "28                        Luge  0.009891  0.700293  0.472215  0.992572\n",
       "29           Modern Pentathlon  0.011411  0.697788  0.457207  0.992579\n",
       "30                Motorboating  0.000000  1.000000  0.000000  0.000000\n",
       "31             Nordic Combined  0.009804  0.673259  0.487375  0.991405\n",
       "32         Rhythmic Gymnastics  0.013100  0.714581  0.408548  0.985270\n",
       "33                      Rowing  0.017072  0.690875  0.489020  0.998672\n",
       "34                       Rugby  0.000000  0.642857  0.281879  0.883310\n",
       "35                Rugby Sevens  0.017621  0.721916  0.510045  0.960013\n",
       "36                     Sailing  0.014597  0.672769  0.424451  0.998412\n",
       "37                    Shooting  0.013849  0.681559  0.470030  0.998742\n",
       "38   Short Track Speed Skating  0.013501  0.681561  0.420366  0.994508\n",
       "39                    Skeleton  0.015625  0.634842  0.450156  0.957832\n",
       "40                 Ski Jumping  0.009498  0.675338  0.522452  0.994686\n",
       "41                Snowboarding  0.008392  0.703800  0.412885  0.990936\n",
       "42                    Softball  0.006623  0.659985  0.360390  0.984446\n",
       "43               Speed Skating  0.010130  0.702268  0.465809  0.997635\n",
       "44                    Swimming  0.011179  0.688807  0.452698  0.999522\n",
       "45       Synchronized Swimming  0.004754  0.679931  0.461116  0.989502\n",
       "46                Table Tennis  0.010558  0.701214  0.488908  0.994032\n",
       "47                   Taekwondo  0.006424  0.702576  0.454188  0.984728\n",
       "48                      Tennis  0.010027  0.689394  0.484047  0.995031\n",
       "49                Trampolining  0.008130  0.778637  0.647790  0.862519\n",
       "50                   Triathlon  0.012563  0.689545  0.423791  0.984170\n",
       "51                  Tug-Of-War  0.000000  0.812500  0.524590  0.427883\n",
       "52                  Volleyball  0.009559  0.680652  0.458192  0.997220\n",
       "53                  Water Polo  0.011640  0.686120  0.483952  0.996274\n",
       "54               Weightlifting  0.016028  0.689588  0.445606  0.996980\n",
       "55                   Wrestling  0.010783  0.676354  0.481691  0.998194"
      ]
     },
     "execution_count": 152,
     "metadata": {},
     "output_type": "execute_result"
    }
   ],
   "source": [
    "aux2"
   ]
  },
  {
   "cell_type": "code",
   "execution_count": 139,
   "metadata": {},
   "outputs": [
    {
     "data": {
      "text/plain": [
       "Athletics                    0.157030\n",
       "Swimming                     0.091073\n",
       "Gymnastics                   0.088623\n",
       "Rowing                       0.037785\n",
       "Cycling                      0.037713\n",
       "Cross Country Skiing         0.036519\n",
       "Shooting                     0.035215\n",
       "Fencing                      0.031708\n",
       "Alpine Skiing                0.030665\n",
       "Canoeing                     0.026920\n",
       "Wrestling                    0.025155\n",
       "Sailing                      0.023588\n",
       "Biathlon                     0.022385\n",
       "Ice Hockey                   0.022210\n",
       "Equestrianism                0.022084\n",
       "Football                     0.021551\n",
       "Speed Skating                0.021342\n",
       "Boxing                       0.021163\n",
       "Hockey                       0.020682\n",
       "Basketball                   0.017792\n",
       "Judo                         0.016327\n",
       "Handball                     0.016099\n",
       "Volleyball                   0.015895\n",
       "Weightlifting                0.014425\n",
       "Water Polo                   0.013188\n",
       "Bobsleigh                    0.010695\n",
       "Diving                       0.009754\n",
       "Tennis                       0.009740\n",
       "Ski Jumping                  0.009536\n",
       "Archery                      0.009133\n",
       "Table Tennis                 0.008678\n",
       "Figure Skating               0.007334\n",
       "Short Track Speed Skating    0.007218\n",
       "Luge                         0.006679\n",
       "Badminton                    0.006606\n",
       "Modern Pentathlon            0.006107\n",
       "Nordic Combined              0.005166\n",
       "Snowboarding                 0.004482\n",
       "Freestyle Skiing             0.004428\n",
       "Synchronized Swimming        0.004118\n",
       "Baseball                     0.004104\n",
       "Rhythmic Gymnastics          0.002983\n",
       "Taekwondo                    0.002891\n",
       "Beach Volleyball             0.002610\n",
       "Triathlon                    0.002551\n",
       "Softball                     0.002139\n",
       "Curling                      0.001989\n",
       "Rugby Sevens                 0.001441\n",
       "Skeleton                     0.000844\n",
       "Trampolining                 0.000723\n",
       "Golf                         0.000524\n",
       "Rugby                        0.000146\n",
       "Art Competitions             0.000136\n",
       "Tug-Of-War                   0.000097\n",
       "Lacrosse                     0.000010\n",
       "Motorboating                 0.000005\n",
       "Name: Sport, dtype: float64"
      ]
     },
     "execution_count": 139,
     "metadata": {},
     "output_type": "execute_result"
    }
   ],
   "source": [
    "aux2\n",
    "\n",
    "atl.Sport.value_counts()/atl.Sport.count()"
   ]
  },
  {
   "cell_type": "code",
   "execution_count": null,
   "metadata": {},
   "outputs": [],
   "source": []
  },
  {
   "cell_type": "markdown",
   "metadata": {},
   "source": [
    "# Perfilamiento:"
   ]
  },
  {
   "cell_type": "code",
   "execution_count": 136,
   "metadata": {},
   "outputs": [
    {
     "name": "stdout",
     "output_type": "stream",
     "text": [
      "gmm   Medal         0         1         2         3\n",
      "0    Bronze  0.349835  0.335145  0.332824  0.343473\n",
      "1      Gold  0.343234  0.338551  0.332518  0.324115\n",
      "3    Silver  0.306931  0.326303  0.334658  0.332412\n"
     ]
    }
   ],
   "source": [
    "aux2 = medal.pivot_table(index='Medal',columns='gmm',aggfunc='count',values='Age').reset_index()\n",
    "\n",
    "aux2 = aux2[aux2.Medal != 'Ninguna']\n",
    "\n",
    "for x in range(4):\n",
    "    aux2[x]= aux2[x]/aux2[x].sum()\n",
    "\n",
    "print(aux2)"
   ]
  },
  {
   "cell_type": "markdown",
   "metadata": {},
   "source": [
    "#### Podemos ver que la estatura,peso y edad no influyen en la cantidad de medallas ganadas"
   ]
  },
  {
   "cell_type": "code",
   "execution_count": 137,
   "metadata": {},
   "outputs": [
    {
     "name": "stdout",
     "output_type": "stream",
     "text": [
      "gmm Sex         0         1         2         3\n",
      "0     F  0.309398  0.319801  0.318018  0.319184\n",
      "1     M  0.690602  0.680199  0.681982  0.680816\n",
      "\n",
      "\n",
      "M    0.676419\n",
      "F    0.323581\n",
      "Name: Sex, dtype: float64\n"
     ]
    }
   ],
   "source": [
    "aux2 = sex.pivot_table(index='Sex',columns='gmm',aggfunc='count',values='Age').reset_index()\n",
    "\n",
    "for x in range(4):\n",
    "    aux2[x]= aux2[x]/aux2[x].sum()\n",
    "\n",
    "\n",
    "print(aux2)\n",
    "print('\\n')\n",
    "print(atl.Sex.value_counts()/atl.Sex.count())"
   ]
  },
  {
   "cell_type": "markdown",
   "metadata": {},
   "source": [
    "#### Podemos ver que la estatura,peso y edad no discrimina el sexo"
   ]
  },
  {
   "cell_type": "markdown",
   "metadata": {},
   "source": [
    "### Clusters\n",
    "#### 0- Pesos MUY pesados\n",
    "#### 1- Basketbolista\n",
    "#### 2 - Veterano\n",
    "#### 3 - Pesos pesados"
   ]
  },
  {
   "cell_type": "code",
   "execution_count": null,
   "metadata": {},
   "outputs": [],
   "source": []
  }
 ],
 "metadata": {
  "kernelspec": {
   "display_name": "Python 3",
   "language": "python",
   "name": "python3"
  },
  "language_info": {
   "codemirror_mode": {
    "name": "ipython",
    "version": 3
   },
   "file_extension": ".py",
   "mimetype": "text/x-python",
   "name": "python",
   "nbconvert_exporter": "python",
   "pygments_lexer": "ipython3",
   "version": "3.6.0"
  }
 },
 "nbformat": 4,
 "nbformat_minor": 2
}
